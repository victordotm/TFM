{
  "nbformat": 4,
  "nbformat_minor": 0,
  "metadata": {
    "colab": {
      "name": "Crear pickle database.ipynb",
      "provenance": [],
      "collapsed_sections": [
        "eSzKQwdnCvmd",
        "CO6Wy6LmFZc2",
        "1cgdyQ0FFc3g",
        "iKPgY8UZvRXW"
      ],
      "machine_shape": "hm",
      "include_colab_link": true
    },
    "kernelspec": {
      "name": "python3",
      "display_name": "Python 3"
    }
  },
  "cells": [
    {
      "cell_type": "markdown",
      "metadata": {
        "id": "view-in-github",
        "colab_type": "text"
      },
      "source": [
        "<a href=\"https://colab.research.google.com/github/victordotm/TFM/blob/master/Crear_pickle_database.ipynb\" target=\"_parent\"><img src=\"https://colab.research.google.com/assets/colab-badge.svg\" alt=\"Open In Colab\"/></a>"
      ]
    },
    {
      "cell_type": "code",
      "metadata": {
        "id": "-iq2aJekT_0l",
        "colab_type": "code",
        "outputId": "b15128d8-9861-4fbf-90f7-8521af5cfe55",
        "colab": {
          "base_uri": "https://localhost:8080/",
          "height": 34
        }
      },
      "source": [
        "BASE_FOLDER = \"/content/drive/My Drive/Colab Notebooks/TFM/\"\n",
        "BASE_FOLDER_test = BASE_FOLDER+\"Dataset_test/\"\n",
        "BASE_FOLDER_VGG16 = BASE_FOLDER+\"Dataset_filtroVGG16_Imagenet-reviewed/\"\n",
        "BASE_FOLDER_YOLOv3 = BASE_FOLDER+\"Dataset_filtroYOLOv3-reviewed/\"\n",
        "BASE_FOLDER_manual = BASE_FOLDER+\"Dataset_manual_filter/\"\n",
        "BASE_FOLDER_sinFiltrar = BASE_FOLDER+\"Dataset_noDup-reviewed/\"\n",
        "BASE_FOLDER_testFinal = BASE_FOLDER+\"Dataset_TestFinal/\"\n",
        "\n",
        "from google.colab import drive\n",
        "drive.mount('/content/drive/')"
      ],
      "execution_count": 0,
      "outputs": [
        {
          "output_type": "stream",
          "text": [
            "Drive already mounted at /content/drive/; to attempt to forcibly remount, call drive.mount(\"/content/drive/\", force_remount=True).\n"
          ],
          "name": "stdout"
        }
      ]
    },
    {
      "cell_type": "code",
      "metadata": {
        "id": "mT0RUqjwVEJV",
        "colab_type": "code",
        "colab": {}
      },
      "source": [
        "import numpy as np\n",
        "import matplotlib.pyplot as plt\n",
        "import os\n",
        "import cv2\n",
        "import random\n",
        "import pickle\n",
        "import time\n",
        "from scipy import ndarray\n",
        "from tqdm import tqdm\n",
        "import skimage as sk\n",
        "from skimage import transform\n",
        "from skimage import util"
      ],
      "execution_count": 0,
      "outputs": []
    },
    {
      "cell_type": "markdown",
      "metadata": {
        "id": "6oy9Cn0hp3bl",
        "colab_type": "text"
      },
      "source": [
        "## Definición funciones & utiles"
      ]
    },
    {
      "cell_type": "markdown",
      "metadata": {
        "id": "Fv8G0qFfow59",
        "colab_type": "text"
      },
      "source": [
        "#### Decorador: util para calcular el tiempo de ejecución de las funciones"
      ]
    },
    {
      "cell_type": "code",
      "metadata": {
        "id": "glVxE2CsolKE",
        "colab_type": "code",
        "colab": {}
      },
      "source": [
        "#Decorador para calcular_tiempo a la función para la cual queremos calcular el tiempo de ejecución\n",
        "\n",
        "\n",
        "#Función para calcular el tiempo de ejecución\n",
        "def calcular_tiempo(f): # @calcular_tiempo\n",
        "   \n",
        "    def wrapper(*args, **kwargs):        \n",
        "        inicio = time.time()       \n",
        "        resultado = f(*args, **kwargs)       \n",
        "        tiempo = time.time() - inicio\n",
        "        print(\"Tiempo de ejecución para algoritmo: \"+str(tiempo))\n",
        "        return resultado\n",
        "    \n",
        "    return wrapper"
      ],
      "execution_count": 0,
      "outputs": []
    },
    {
      "cell_type": "markdown",
      "metadata": {
        "id": "WmRKj5Yio4xT",
        "colab_type": "text"
      },
      "source": [
        "#### Definición funciones de transformanción de imagenes"
      ]
    },
    {
      "cell_type": "code",
      "metadata": {
        "id": "_hmDTRKwkX8G",
        "colab_type": "code",
        "colab": {}
      },
      "source": [
        "def random_rotation(image_array: ndarray, rot_left=-25, rot_right=25):\n",
        "    #Nos aseguramos que cada llamada a la función generará una random diferente\n",
        "    random_param = time.clock()\n",
        "    random_param = random_param*rot_left\n",
        "    random.seed(random_param)\n",
        "    \n",
        "    # tomamos un numero random de grados a rotar dentro del intervalo\n",
        "    random_degree = random.uniform(rot_left, rot_right)\n",
        "    return sk.transform.rotate(image_array, random_degree)\n",
        "\n",
        "def random_noise(image_array: ndarray, seed_random = 1):\n",
        "  \n",
        "    #Nos aseguramos que cada llamada a la función generará una random diferente\n",
        "    random_param = time.clock()\n",
        "    random_param = random_param*seed_random\n",
        "    random.seed(random_param)\n",
        "    \n",
        "    # add random noise to the image\n",
        "    return sk.util.random_noise(image_array)\n",
        "\n",
        "def horizontal_flip(image_array: ndarray):\n",
        "    # Inversión del array de pixeles\n",
        "    return image_array[:, ::-1]"
      ],
      "execution_count": 0,
      "outputs": []
    },
    {
      "cell_type": "markdown",
      "metadata": {
        "id": "Kp-HXfDxpBeG",
        "colab_type": "text"
      },
      "source": [
        "#### Definición funciones de data augmentation"
      ]
    },
    {
      "cell_type": "code",
      "metadata": {
        "id": "lncSji6atL8r",
        "colab_type": "code",
        "colab": {}
      },
      "source": [
        "def Aug_data_4 (training_data, new_array, class_num):\n",
        "  \n",
        "  training_data.append([new_array, class_num]) #guardamos imagen + label originales\n",
        "  \n",
        "  #aplicamos tecnicas de data augmentation\n",
        "  \n",
        "  #rotación\n",
        "  array_rotated=random_rotation(new_array)\n",
        "  training_data.append([array_rotated, class_num]) #guardamos imagen + label\n",
        "  \n",
        "  #ruido\n",
        "  array_ruido=random_noise(new_array)\n",
        "  training_data.append([array_ruido, class_num]) #guardamos imagen + label\n",
        "  \n",
        "  #giro horizontal\n",
        "  array_giro=horizontal_flip(new_array)\n",
        "  training_data.append([array_giro, class_num]) #guardamos imagen + label\n",
        "  \n",
        "  return training_data"
      ],
      "execution_count": 0,
      "outputs": []
    },
    {
      "cell_type": "code",
      "metadata": {
        "id": "b7LfQw1buFkb",
        "colab_type": "code",
        "colab": {}
      },
      "source": [
        "\n",
        "def Aug_data_6 (training_data, new_array, class_num):\n",
        "\n",
        "  training_data.append([new_array, class_num]) #guardamos imagen + label originales\n",
        "  #aplicamos tecnicas de data augmentation\n",
        "  Aug_array = []\n",
        "  \n",
        "  #rotación\n",
        "  array_rotated=random_rotation(new_array)\n",
        "  Aug_array.append(new_array)\n",
        "  Aug_array.append(array_rotated) #guardamos imagen + label\n",
        "  \n",
        "  for element in range(len(Aug_array)):\n",
        "    #ruido\n",
        "    array_ruido=random_noise(Aug_array[element])\n",
        "    Aug_array.append(array_ruido) #guardamos imagen + label\n",
        "\n",
        "  for element in range(len(Aug_array)): \n",
        "    #giro horizontal\n",
        "    array_giro=horizontal_flip(Aug_array[element])\n",
        "    Aug_array.append(array_giro) #guardamos imagen + label\n",
        "    \n",
        "  for element in range(len(Aug_array)): \n",
        "    training_data.append([Aug_array[element], class_num])\n",
        "\n",
        "  return training_data"
      ],
      "execution_count": 0,
      "outputs": []
    },
    {
      "cell_type": "code",
      "metadata": {
        "id": "cahAaEWlZicm",
        "colab_type": "code",
        "colab": {}
      },
      "source": [
        "def Aug_data_max (training_data, new_array, class_num):\n",
        "\n",
        "  training_data.append([new_array, class_num]) #guardamos imagen + label originales\n",
        "  #aplicamos tecnicas de data augmentation\n",
        "  Aug_array = []\n",
        "  Aug_array.append(new_array) #guardamos la imagen inicial\n",
        "  \n",
        "  #rotación\n",
        "  for it in range(2,5): #para el caso de filtro manual: (3,5)\n",
        "    rotations = it/1.2\n",
        "    r_left=10\n",
        "    r_right=10\n",
        "    array_rotated=random_rotation(new_array, r_left*rotations, r_right*rotations)\n",
        "    Aug_array.append(array_rotated) #guardamos imagen + label\n",
        "  \n",
        "  for element in range(len(Aug_array)):\n",
        "    #ruido\n",
        "    array_ruido=random_noise(Aug_array[element],element+1)\n",
        "    Aug_array.append(array_ruido) #guardamos imagen + label\n",
        "\n",
        "  for element in range(len(Aug_array)): \n",
        "    #giro horizontal\n",
        "    array_giro=horizontal_flip(Aug_array[element])\n",
        "    Aug_array.append(array_giro) #guardamos imagen + label\n",
        "    \n",
        "  for element in range(len(Aug_array)): \n",
        "    training_data.append([Aug_array[element], class_num])\n",
        "\n",
        "  return training_data"
      ],
      "execution_count": 0,
      "outputs": []
    },
    {
      "cell_type": "code",
      "metadata": {
        "id": "Xsf1fEOXFDuf",
        "colab_type": "code",
        "colab": {}
      },
      "source": [
        "def ratio_dataAug(num_inicial, out_array):\n",
        "  num_final = len(out_array)\n",
        "  \n",
        "  ratio_aug = num_final / num_inicial\n",
        "  \n",
        "  return ratio_aug\n",
        "  "
      ],
      "execution_count": 0,
      "outputs": []
    },
    {
      "cell_type": "markdown",
      "metadata": {
        "id": "qqi6DMo_pHwE",
        "colab_type": "text"
      },
      "source": [
        "#### Definición función creación datos de entrenamiento:\n",
        "Data augmentation, sin balancear"
      ]
    },
    {
      "cell_type": "code",
      "metadata": {
        "id": "wcVuPdIEsx4M",
        "colab_type": "code",
        "colab": {}
      },
      "source": [
        "@calcular_tiempo\n",
        "def create_training_data(categories, folder, img_size, Aug_level):\n",
        "  \n",
        "  training_data = []\n",
        "  num_images_inicial = 0\n",
        "  \n",
        "  for category in categories:  \n",
        "\n",
        "    path = os.path.join(folder,category)  \n",
        "    class_num = categories.index(category)  #Cada nombre de carpeta equivale a una clase\n",
        "    \n",
        "    for img in tqdm(os.listdir(path)):  \n",
        "      img_array = cv2.imread(os.path.join(path,img))  \n",
        "      new_array = cv2.resize(img_array, (img_size, img_size)) #redimencionamos images para homogenizar su tamaño\n",
        "      #Llevamos la cuenta del número de images originales que hay en el database\n",
        "      num_images_inicial = num_images_inicial + 1\n",
        "      \n",
        "      #Aplicamos diferentes niveles de dataAugmentation según argumento\n",
        "      if Aug_level == 0:\n",
        "        training_data.append([new_array, class_num]) #guardamos imagen + label\n",
        "      elif Aug_level == 4:\n",
        "        training_data = Aug_data_4 (training_data, new_array, class_num)\n",
        "      elif Aug_level == 6:\n",
        "        training_data = Aug_data_6 (training_data, new_array, class_num)\n",
        "      elif Aug_level == 8:\n",
        "        training_data = Aug_data_max (training_data, new_array, class_num)\n",
        "\n",
        "  print(\"Ratio data Augmentation:\")      \n",
        "  print(ratio_dataAug(num_images_inicial,training_data))\n",
        "  \n",
        "  print(\"\")\n",
        "  print(\"Función ejecutada: create_training_data\")\n",
        "  \n",
        "  return training_data"
      ],
      "execution_count": 0,
      "outputs": []
    },
    {
      "cell_type": "markdown",
      "metadata": {
        "id": "hc0IqZccpdGk",
        "colab_type": "text"
      },
      "source": [
        "#### Definición función creación datos de entrenamiento:\n",
        "Base de datos balanceadas"
      ]
    },
    {
      "cell_type": "code",
      "metadata": {
        "id": "DU_f70FvpS6q",
        "colab_type": "code",
        "colab": {}
      },
      "source": [
        "@calcular_tiempo\n",
        "def balanced_training_data(categories, folder, img_size, Aug_level, target_size):\n",
        "  \n",
        "  training_data = []\n",
        "  \n",
        "  for category in categories:  \n",
        "\n",
        "    path = os.path.join(folder,category)  \n",
        "    class_num = categories.index(category)  #Cada nombre de carpeta equivale a una clase\n",
        "    num_images = 0 # nueva categoria, reiniciamos contador número imagenes\n",
        "    \n",
        "    category_data = []\n",
        "    \n",
        "    for img in tqdm(os.listdir(path)):\n",
        "      \n",
        "      img_array = cv2.imread(os.path.join(path,img))  \n",
        "      new_array = cv2.resize(img_array, (img_size, img_size)) #redimencionamos images para homogenizar su tamaño\n",
        "      category_data.append(new_array)# guardamos imagen actual + label\n",
        "      \n",
        "      if (target_size - len(category_data)) == 0: #Si alcanzamos el número de imagenes necesarias dejamos de leer el fichero\n",
        "\n",
        "        break\n",
        "        \n",
        "    loop=0 #Contador numero de loops while data Augmentation\n",
        "      \n",
        "    while (target_size - len(category_data)) >= 0:\n",
        "\n",
        "      loop = loop + 1\n",
        "      rot_left = (-25-loop)\n",
        "      rot_right = (25+loop)\n",
        "        \n",
        "      for element in range(len(category_data)):\n",
        "        #rotación\n",
        "        array_rotated=random_rotation(category_data[element], rot_left, rot_right)\n",
        "        category_data.append(array_rotated) #guardamos imagen + label\n",
        "  \n",
        "        #ruido\n",
        "        array_ruido=random_noise(category_data[element], loop*rot_right)\n",
        "        category_data.append(array_ruido) #guardamos imagen + label\n",
        " \n",
        "        if loop == 1:\n",
        "          #giro horizontal\n",
        "          #Solo podemos aplicar el giro horizontal a la imagen original 1 vez\n",
        "          array_giro=horizontal_flip(category_data[element])\n",
        "          category_data.append(array_giro) #guardamos imagen + label\n",
        "          \n",
        "        if (target_size - len(category_data)) <= 0: #Si alcanzamos el número de imagenes necesarias dejamos de crear imagenes\n",
        "          break\n",
        "            \n",
        "      if (target_size - len(category_data)) <= 0: #Si alcanzamos el número de imagenes necesarias dejamos de crear imagenes\n",
        "        break\n",
        "\n",
        "    for element in range(len(category_data)): \n",
        "      training_data.append([category_data[element], class_num])\n",
        "    \n",
        "    print(\"\")\n",
        "    print(\"\")\n",
        "    print(\"Imagenes Categoria:\",class_num)\n",
        "    print(len(category_data))\n",
        "    print(\"\")\n",
        "  \n",
        "  print(\"\")\n",
        "  print(\"Función ejecutada: create_training_data\")\n",
        "  \n",
        "  return training_data"
      ],
      "execution_count": 0,
      "outputs": []
    },
    {
      "cell_type": "markdown",
      "metadata": {
        "id": "SXKMWGRDph2d",
        "colab_type": "text"
      },
      "source": [
        "#### Definición creación base de datos en formato pickle"
      ]
    },
    {
      "cell_type": "code",
      "metadata": {
        "id": "T8lWdAV81mtD",
        "colab_type": "code",
        "colab": {}
      },
      "source": [
        "@calcular_tiempo\n",
        "def create_pickle_database(BASE_FOLDER_data, categories, img_size, pick_name, Aug_level, target_size = 0):\n",
        "  \n",
        "  if target_size == 0:\n",
        "    training_data = create_training_data(categories, BASE_FOLDER_data, img_size, Aug_level)\n",
        "  \n",
        "  else:\n",
        "    training_data = balanced_training_data(categories, BASE_FOLDER_data, img_size, Aug_level, target_size)\n",
        "  \n",
        "  print(\"Tamaño base de datos pickle:\")\n",
        "  print(len(training_data))\n",
        "  \n",
        "  #Mezclamos de forma random los datos para que después sea optimo el entrenamiento\n",
        "  random.shuffle(training_data)\n",
        "\n",
        "  X = []\n",
        "  y = []\n",
        "\n",
        "  for features,label in training_data:\n",
        "    X.append(features)\n",
        "    y.append(label)\n",
        "\n",
        "  X = np.array(X).reshape(-1, img_size, img_size, 3)\n",
        "\n",
        "  \n",
        "  pickle_out = open(BASE_FOLDER_data+\"Imag\"+pick_name+\".pickle\",\"wb\")\n",
        "  pickle.dump(X, pickle_out)\n",
        "  pickle_out.close()\n",
        "\n",
        "  pickle_out = open(BASE_FOLDER_data+\"Label\"+pick_name+\".pickle\",\"wb\")\n",
        "  pickle.dump(y, pickle_out)\n",
        "  pickle_out.close()\n",
        "  \n",
        "  print(\"Función ejecutada: create_pickle_database\")\n",
        "  \n",
        "  return True"
      ],
      "execution_count": 0,
      "outputs": []
    },
    {
      "cell_type": "markdown",
      "metadata": {
        "id": "s3SIxamopsZM",
        "colab_type": "text"
      },
      "source": [
        "#### Definición variables "
      ]
    },
    {
      "cell_type": "code",
      "metadata": {
        "id": "T_imfW2cqzkf",
        "colab_type": "code",
        "colab": {}
      },
      "source": [
        "#definimos categorias\n",
        "Complete_cat = [\"acciona\", \"blinkee\",\"ecooltra\",\"muving\",\"motos\",\"yego\"]\n",
        "Binary_cat = [\"motos\",\"electrica\"]\n",
        "\n",
        "#definimos image size\n",
        "img_size = 104 #definimos tamaño de imagenes\n",
        "\n",
        "#definimos pickle name\n",
        "\n",
        "#Categorias completas / sin balancear\n",
        "pick_name_std_ub_complet = \"std_ub_c\"\n",
        "pick_name_Aug4_ub_complet = \"Aug4_ub_c\"\n",
        "pick_name_Aug6_ub_complet = \"Aug6_ub_c\"\n",
        "pick_name_AugMx_ub_complet = \"AugMx_ub_c\"\n",
        "\n",
        "\n",
        "#Categorias completas / balanceadas\n",
        "pick_name_low_bal = \"low_bal\"\n",
        "pick_name_medium_bal = \"medium_bal\"\n",
        "pick_name_high_bal = \"high_bal\"\n",
        "\n",
        "#Categorias binarias / sin balancear\n",
        "pick_name_std_ub_bin = \"std_ub_bin\"\n",
        "pick_name_Aug4_ub_bin = \"Aug4_ub_bin\"\n",
        "pick_name_Aug6_ub_bin = \"Aug6_ub_bin\"\n",
        "pick_name_AugMx_ub_bin = \"AugMx_ub_bin\"\n",
        "\n",
        "#definimos tamaño objetivo balanceo\n",
        "low_bal = 200\n",
        "medium_bal = 500\n",
        "high_bal = 1000\n",
        "\n",
        "#definimos niveles de dataAugmentation a aplicar\n",
        "Aug_level_0 = 0\n",
        "Aug_level_4 = 4\n",
        "Aug_level_6 = 6\n",
        "Aug_level_max = 8"
      ],
      "execution_count": 0,
      "outputs": []
    },
    {
      "cell_type": "markdown",
      "metadata": {
        "id": "Buqjsw1MpyY8",
        "colab_type": "text"
      },
      "source": [
        "## Creación base de datos"
      ]
    },
    {
      "cell_type": "markdown",
      "metadata": {
        "id": "eSzKQwdnCvmd",
        "colab_type": "text"
      },
      "source": [
        "### Crear bases de datos basadas en imagenes YOLOv3"
      ]
    },
    {
      "cell_type": "markdown",
      "metadata": {
        "id": "XU9hZeAHnXs9",
        "colab_type": "text"
      },
      "source": [
        "#### Creamos base de datos sin balancear categorias"
      ]
    },
    {
      "cell_type": "markdown",
      "metadata": {
        "id": "WbZmX7sCngJt",
        "colab_type": "text"
      },
      "source": [
        "#### 1. Base de datos YOLOv3 maximo nivel data augmentation, todas las categorias"
      ]
    },
    {
      "cell_type": "code",
      "metadata": {
        "id": "1IYFrXNzhpZU",
        "colab_type": "code",
        "outputId": "300cbb46-5e11-48dc-db9f-6de29d4f316f",
        "colab": {
          "base_uri": "https://localhost:8080/",
          "height": 301
        }
      },
      "source": [
        "create_pickle_database(BASE_FOLDER_YOLOv3, Complete_cat, img_size, pick_name_AugMx_ub_complet, Aug_level_max)"
      ],
      "execution_count": 0,
      "outputs": [
        {
          "output_type": "stream",
          "text": [
            "100%|██████████| 44/44 [00:01<00:00, 34.03it/s]\n",
            "100%|██████████| 109/109 [00:03<00:00, 35.23it/s]\n",
            "100%|██████████| 167/167 [00:04<00:00, 44.05it/s]\n",
            "100%|██████████| 133/133 [00:03<00:00, 36.81it/s]\n",
            "100%|██████████| 462/462 [00:18<00:00, 25.40it/s]\n",
            "100%|██████████| 24/24 [00:00<00:00, 35.94it/s]\n"
          ],
          "name": "stderr"
        },
        {
          "output_type": "stream",
          "text": [
            "Ratio data Augmentation:\n",
            "17.0\n",
            "\n",
            "Función ejecutada: create_training_data\n",
            "Tiempo de ejecución para algoritmo: 30.910341501235962\n",
            "Tamaño base de datos pickle:\n",
            "15963\n",
            "Función ejecutada: create_pickle_database\n",
            "Tiempo de ejecución para algoritmo: 144.87870907783508\n"
          ],
          "name": "stdout"
        },
        {
          "output_type": "execute_result",
          "data": {
            "text/plain": [
              "True"
            ]
          },
          "metadata": {
            "tags": []
          },
          "execution_count": 16
        }
      ]
    },
    {
      "cell_type": "markdown",
      "metadata": {
        "id": "oLWHXuQYn7Q-",
        "colab_type": "text"
      },
      "source": [
        "#### 2. Base de datos YOLOv3 nivel medio data augmentation, todas las categorias"
      ]
    },
    {
      "cell_type": "code",
      "metadata": {
        "id": "MXI-TiyJdwwF",
        "colab_type": "code",
        "outputId": "49379bfd-0945-4dc6-e4f4-c2722cc39117",
        "colab": {
          "base_uri": "https://localhost:8080/",
          "height": 301
        }
      },
      "source": [
        "create_pickle_database(BASE_FOLDER_YOLOv3, Complete_cat, img_size, pick_name_Aug6_ub_complet, Aug_level_6)"
      ],
      "execution_count": 0,
      "outputs": [
        {
          "output_type": "stream",
          "text": [
            "100%|██████████| 44/44 [00:01<00:00, 34.35it/s]\n",
            "100%|██████████| 109/109 [00:03<00:00, 33.77it/s]\n",
            "100%|██████████| 167/167 [00:03<00:00, 48.43it/s]\n",
            "100%|██████████| 133/133 [00:02<00:00, 44.34it/s]\n",
            "100%|██████████| 462/462 [00:15<00:00, 29.93it/s]\n",
            "100%|██████████| 24/24 [00:00<00:00, 47.07it/s]\n"
          ],
          "name": "stderr"
        },
        {
          "output_type": "stream",
          "text": [
            "Ratio data Augmentation:\n",
            "9.0\n",
            "\n",
            "Función ejecutada: create_training_data\n",
            "Tiempo de ejecución para algoritmo: 27.18750524520874\n",
            "Tamaño base de datos pickle:\n",
            "8451\n",
            "Función ejecutada: create_pickle_database\n",
            "Tiempo de ejecución para algoritmo: 60.19911432266235\n"
          ],
          "name": "stdout"
        },
        {
          "output_type": "execute_result",
          "data": {
            "text/plain": [
              "True"
            ]
          },
          "metadata": {
            "tags": []
          },
          "execution_count": 14
        }
      ]
    },
    {
      "cell_type": "markdown",
      "metadata": {
        "id": "edyYiBBboCr9",
        "colab_type": "text"
      },
      "source": [
        "#### 3. Base de datos YOLOv3 nivel bajo data augmentation, todas las categorias"
      ]
    },
    {
      "cell_type": "code",
      "metadata": {
        "id": "aqngkUNRolXX",
        "colab_type": "code",
        "outputId": "0f5436d0-9049-48ca-b7fd-02b1711e7dc1",
        "colab": {
          "base_uri": "https://localhost:8080/",
          "height": 301
        }
      },
      "source": [
        "create_pickle_database(BASE_FOLDER_YOLOv3, Complete_cat, img_size, pick_name_Aug4_ub_complet, Aug_level_4)"
      ],
      "execution_count": 0,
      "outputs": [
        {
          "output_type": "stream",
          "text": [
            "100%|██████████| 44/44 [00:00<00:00, 45.84it/s]\n",
            "100%|██████████| 109/109 [00:02<00:00, 50.70it/s]\n",
            "100%|██████████| 167/167 [00:02<00:00, 67.88it/s]\n",
            "100%|██████████| 133/133 [00:02<00:00, 64.33it/s]\n",
            "100%|██████████| 462/462 [00:11<00:00, 39.39it/s]\n",
            "100%|██████████| 24/24 [00:00<00:00, 62.57it/s]\n"
          ],
          "name": "stderr"
        },
        {
          "output_type": "stream",
          "text": [
            "Ratio data Augmentation:\n",
            "4.0\n",
            "\n",
            "Función ejecutada: create_training_data\n",
            "Tiempo de ejecución para algoritmo: 19.84935688972473\n",
            "Tamaño base de datos pickle:\n",
            "3756\n",
            "Función ejecutada: create_pickle_database\n",
            "Tiempo de ejecución para algoritmo: 26.008620738983154\n"
          ],
          "name": "stdout"
        },
        {
          "output_type": "execute_result",
          "data": {
            "text/plain": [
              "True"
            ]
          },
          "metadata": {
            "tags": []
          },
          "execution_count": 17
        }
      ]
    },
    {
      "cell_type": "markdown",
      "metadata": {
        "id": "KlqE1GmwoJL9",
        "colab_type": "text"
      },
      "source": [
        "#### 4. Base de datos YOLOv3 sin data augmentation, todas las categorias"
      ]
    },
    {
      "cell_type": "code",
      "metadata": {
        "id": "SJ9ZYp1a2lEw",
        "colab_type": "code",
        "outputId": "4877248a-5478-41be-93d3-378b1c64aed2",
        "colab": {
          "base_uri": "https://localhost:8080/",
          "height": 301
        }
      },
      "source": [
        "create_pickle_database(BASE_FOLDER_YOLOv3, Complete_cat, img_size, pick_name_std_ub_complet, Aug_level_0)"
      ],
      "execution_count": 0,
      "outputs": [
        {
          "output_type": "stream",
          "text": [
            "100%|██████████| 44/44 [00:00<00:00, 60.57it/s]\n",
            "100%|██████████| 109/109 [00:01<00:00, 64.45it/s]\n",
            "100%|██████████| 167/167 [00:01<00:00, 94.78it/s]\n",
            "100%|██████████| 133/133 [00:01<00:00, 82.83it/s]\n",
            "100%|██████████| 462/462 [00:09<00:00, 47.91it/s]\n",
            "100%|██████████| 24/24 [00:00<00:00, 85.17it/s]\n"
          ],
          "name": "stderr"
        },
        {
          "output_type": "stream",
          "text": [
            "Ratio data Augmentation:\n",
            "1.0\n",
            "\n",
            "Función ejecutada: create_training_data\n",
            "Tiempo de ejecución para algoritmo: 15.745143413543701\n",
            "Tamaño base de datos pickle:\n",
            "939\n",
            "Función ejecutada: create_pickle_database\n",
            "Tiempo de ejecución para algoritmo: 16.08640146255493\n"
          ],
          "name": "stdout"
        },
        {
          "output_type": "execute_result",
          "data": {
            "text/plain": [
              "True"
            ]
          },
          "metadata": {
            "tags": []
          },
          "execution_count": 31
        }
      ]
    },
    {
      "cell_type": "markdown",
      "metadata": {
        "id": "kiVuoutwnS-D",
        "colab_type": "text"
      },
      "source": [
        "#### Creamos base de datos balanceadas"
      ]
    },
    {
      "cell_type": "markdown",
      "metadata": {
        "id": "BHfOVhrOoPgI",
        "colab_type": "text"
      },
      "source": [
        "#### 1. Base de datos YOLOv3 balanceada, todas las categorias, tamaño base de datos final nivel bajo"
      ]
    },
    {
      "cell_type": "code",
      "metadata": {
        "id": "WCoGtD1D27Gr",
        "colab_type": "code",
        "outputId": "a23bb39f-fb4f-46ce-eb0a-6edeaf608559",
        "colab": {
          "base_uri": "https://localhost:8080/",
          "height": 799
        }
      },
      "source": [
        "create_pickle_database(BASE_FOLDER_YOLOv3, Complete_cat, img_size, pick_name_low_bal, Aug_level_0, low_bal)"
      ],
      "execution_count": 0,
      "outputs": [
        {
          "output_type": "stream",
          "text": [
            "100%|██████████| 44/44 [00:00<00:00, 62.88it/s]\n",
            "  1%|          | 1/109 [00:00<00:11,  9.27it/s]"
          ],
          "name": "stderr"
        },
        {
          "output_type": "stream",
          "text": [
            "\n",
            "\n",
            "Imagenes Categoria: 0\n",
            "200\n",
            "\n"
          ],
          "name": "stdout"
        },
        {
          "output_type": "stream",
          "text": [
            "100%|██████████| 109/109 [00:01<00:00, 66.33it/s]\n",
            "  7%|▋         | 11/167 [00:00<00:01, 105.94it/s]"
          ],
          "name": "stderr"
        },
        {
          "output_type": "stream",
          "text": [
            "\n",
            "\n",
            "Imagenes Categoria: 1\n",
            "202\n",
            "\n"
          ],
          "name": "stdout"
        },
        {
          "output_type": "stream",
          "text": [
            "100%|██████████| 167/167 [00:01<00:00, 93.15it/s]\n",
            "  2%|▏         | 2/133 [00:00<00:09, 13.21it/s]"
          ],
          "name": "stderr"
        },
        {
          "output_type": "stream",
          "text": [
            "\n",
            "\n",
            "Imagenes Categoria: 2\n",
            "200\n",
            "\n"
          ],
          "name": "stdout"
        },
        {
          "output_type": "stream",
          "text": [
            "100%|██████████| 133/133 [00:01<00:00, 87.82it/s]\n",
            "  0%|          | 0/462 [00:00<?, ?it/s]"
          ],
          "name": "stderr"
        },
        {
          "output_type": "stream",
          "text": [
            "\n",
            "\n",
            "Imagenes Categoria: 3\n",
            "202\n",
            "\n"
          ],
          "name": "stdout"
        },
        {
          "output_type": "stream",
          "text": [
            " 43%|████▎     | 198/462 [00:04<00:05, 52.18it/s]\n",
            " 38%|███▊      | 9/24 [00:00<00:00, 81.62it/s]"
          ],
          "name": "stderr"
        },
        {
          "output_type": "stream",
          "text": [
            "\n",
            "\n",
            "Imagenes Categoria: 4\n",
            "203\n",
            "\n"
          ],
          "name": "stdout"
        },
        {
          "output_type": "stream",
          "text": [
            "100%|██████████| 24/24 [00:00<00:00, 81.85it/s]\n"
          ],
          "name": "stderr"
        },
        {
          "output_type": "stream",
          "text": [
            "\n",
            "\n",
            "Imagenes Categoria: 5\n",
            "200\n",
            "\n",
            "\n",
            "Función ejecutada: create_training_data\n",
            "Tiempo de ejecución para algoritmo: 11.18227767944336\n",
            "Tamaño base de datos pickle:\n",
            "1207\n",
            "Función ejecutada: create_pickle_database\n",
            "Tiempo de ejecución para algoritmo: 13.585546255111694\n"
          ],
          "name": "stdout"
        },
        {
          "output_type": "execute_result",
          "data": {
            "text/plain": [
              "True"
            ]
          },
          "metadata": {
            "tags": []
          },
          "execution_count": 54
        }
      ]
    },
    {
      "cell_type": "markdown",
      "metadata": {
        "id": "pT6kygZtolSv",
        "colab_type": "text"
      },
      "source": [
        "#### 2. Base de datos YOLOv3 balanceada, todas las categorias, tamaño base de datos final nivel medio"
      ]
    },
    {
      "cell_type": "code",
      "metadata": {
        "id": "NE6cWNw-4Qea",
        "colab_type": "code",
        "outputId": "9f1d05b4-849a-4004-ee4b-17f112920d75",
        "colab": {
          "base_uri": "https://localhost:8080/",
          "height": 799
        }
      },
      "source": [
        "create_pickle_database(BASE_FOLDER_YOLOv3, Complete_cat, img_size, pick_name_medium_bal, Aug_level_0, medium_bal)"
      ],
      "execution_count": 0,
      "outputs": [
        {
          "output_type": "stream",
          "text": [
            "100%|██████████| 44/44 [00:00<00:00, 58.22it/s]\n",
            "  1%|          | 1/109 [00:00<00:11,  9.21it/s]"
          ],
          "name": "stderr"
        },
        {
          "output_type": "stream",
          "text": [
            "\n",
            "\n",
            "Imagenes Categoria: 0\n",
            "500\n",
            "\n"
          ],
          "name": "stdout"
        },
        {
          "output_type": "stream",
          "text": [
            "100%|██████████| 109/109 [00:01<00:00, 61.12it/s]\n",
            "  6%|▌         | 10/167 [00:00<00:01, 92.53it/s]"
          ],
          "name": "stderr"
        },
        {
          "output_type": "stream",
          "text": [
            "\n",
            "\n",
            "Imagenes Categoria: 1\n",
            "500\n",
            "\n"
          ],
          "name": "stdout"
        },
        {
          "output_type": "stream",
          "text": [
            "100%|██████████| 167/167 [00:01<00:00, 90.36it/s]\n",
            "  2%|▏         | 2/133 [00:00<00:09, 13.78it/s]"
          ],
          "name": "stderr"
        },
        {
          "output_type": "stream",
          "text": [
            "\n",
            "\n",
            "Imagenes Categoria: 2\n",
            "500\n",
            "\n"
          ],
          "name": "stdout"
        },
        {
          "output_type": "stream",
          "text": [
            "100%|██████████| 133/133 [00:01<00:00, 85.27it/s]\n",
            "  0%|          | 0/462 [00:00<?, ?it/s]"
          ],
          "name": "stderr"
        },
        {
          "output_type": "stream",
          "text": [
            "\n",
            "\n",
            "Imagenes Categoria: 3\n",
            "502\n",
            "\n"
          ],
          "name": "stdout"
        },
        {
          "output_type": "stream",
          "text": [
            "100%|██████████| 462/462 [00:09<00:00, 47.58it/s]\n",
            " 42%|████▏     | 10/24 [00:00<00:00, 99.38it/s]"
          ],
          "name": "stderr"
        },
        {
          "output_type": "stream",
          "text": [
            "\n",
            "\n",
            "Imagenes Categoria: 4\n",
            "501\n",
            "\n"
          ],
          "name": "stdout"
        },
        {
          "output_type": "stream",
          "text": [
            "100%|██████████| 24/24 [00:00<00:00, 98.41it/s]\n"
          ],
          "name": "stderr"
        },
        {
          "output_type": "stream",
          "text": [
            "\n",
            "\n",
            "Imagenes Categoria: 5\n",
            "500\n",
            "\n",
            "\n",
            "Función ejecutada: create_training_data\n",
            "Tiempo de ejecución para algoritmo: 18.629858255386353\n",
            "Tamaño base de datos pickle:\n",
            "3003\n",
            "Función ejecutada: create_pickle_database\n",
            "Tiempo de ejecución para algoritmo: 21.99893021583557\n"
          ],
          "name": "stdout"
        },
        {
          "output_type": "execute_result",
          "data": {
            "text/plain": [
              "True"
            ]
          },
          "metadata": {
            "tags": []
          },
          "execution_count": 55
        }
      ]
    },
    {
      "cell_type": "markdown",
      "metadata": {
        "id": "d60vcBpgooFe",
        "colab_type": "text"
      },
      "source": [
        "#### 3. Base de datos YOLOv3 balanceada, todas las categorias, tamaño base de datos final nivel alto"
      ]
    },
    {
      "cell_type": "code",
      "metadata": {
        "id": "RgYmiJtF4k-b",
        "colab_type": "code",
        "outputId": "28fbcaac-cd58-441f-a790-21863fee8e4b",
        "colab": {
          "base_uri": "https://localhost:8080/",
          "height": 799
        }
      },
      "source": [
        "create_pickle_database(BASE_FOLDER_YOLOv3, Complete_cat, img_size, pick_name_high_bal, Aug_level_0, high_bal)"
      ],
      "execution_count": 0,
      "outputs": [
        {
          "output_type": "stream",
          "text": [
            "100%|██████████| 44/44 [00:00<00:00, 59.98it/s]\n",
            "  1%|          | 1/109 [00:00<00:12,  8.71it/s]"
          ],
          "name": "stderr"
        },
        {
          "output_type": "stream",
          "text": [
            "\n",
            "\n",
            "Imagenes Categoria: 0\n",
            "1000\n",
            "\n"
          ],
          "name": "stdout"
        },
        {
          "output_type": "stream",
          "text": [
            "100%|██████████| 109/109 [00:01<00:00, 64.76it/s]\n",
            "  7%|▋         | 12/167 [00:00<00:01, 89.88it/s]"
          ],
          "name": "stderr"
        },
        {
          "output_type": "stream",
          "text": [
            "\n",
            "\n",
            "Imagenes Categoria: 1\n",
            "1000\n",
            "\n"
          ],
          "name": "stdout"
        },
        {
          "output_type": "stream",
          "text": [
            "100%|██████████| 167/167 [00:01<00:00, 96.87it/s]\n",
            "  2%|▏         | 2/133 [00:00<00:10, 12.53it/s]"
          ],
          "name": "stderr"
        },
        {
          "output_type": "stream",
          "text": [
            "\n",
            "\n",
            "Imagenes Categoria: 2\n",
            "1000\n",
            "\n"
          ],
          "name": "stdout"
        },
        {
          "output_type": "stream",
          "text": [
            "100%|██████████| 133/133 [00:01<00:00, 87.43it/s]\n",
            "  0%|          | 0/462 [00:00<?, ?it/s]"
          ],
          "name": "stderr"
        },
        {
          "output_type": "stream",
          "text": [
            "\n",
            "\n",
            "Imagenes Categoria: 3\n",
            "1000\n",
            "\n"
          ],
          "name": "stdout"
        },
        {
          "output_type": "stream",
          "text": [
            "100%|██████████| 462/462 [00:09<00:00, 46.29it/s]\n",
            " 38%|███▊      | 9/24 [00:00<00:00, 84.57it/s]"
          ],
          "name": "stderr"
        },
        {
          "output_type": "stream",
          "text": [
            "\n",
            "\n",
            "Imagenes Categoria: 4\n",
            "1002\n",
            "\n"
          ],
          "name": "stdout"
        },
        {
          "output_type": "stream",
          "text": [
            "100%|██████████| 24/24 [00:00<00:00, 88.52it/s]\n"
          ],
          "name": "stderr"
        },
        {
          "output_type": "stream",
          "text": [
            "\n",
            "\n",
            "Imagenes Categoria: 5\n",
            "1000\n",
            "\n",
            "\n",
            "Función ejecutada: create_training_data\n",
            "Tiempo de ejecución para algoritmo: 23.538779735565186\n",
            "Tamaño base de datos pickle:\n",
            "6002\n",
            "Función ejecutada: create_pickle_database\n",
            "Tiempo de ejecución para algoritmo: 43.26490259170532\n"
          ],
          "name": "stdout"
        },
        {
          "output_type": "execute_result",
          "data": {
            "text/plain": [
              "True"
            ]
          },
          "metadata": {
            "tags": []
          },
          "execution_count": 56
        }
      ]
    },
    {
      "cell_type": "markdown",
      "metadata": {
        "id": "CO6Wy6LmFZc2",
        "colab_type": "text"
      },
      "source": [
        "### Crear bases de datos basadas en imagenes VGG16"
      ]
    },
    {
      "cell_type": "markdown",
      "metadata": {
        "id": "p-gRK_WCqe0R",
        "colab_type": "text"
      },
      "source": [
        "#### Creamos base de datos sin balancear categorias"
      ]
    },
    {
      "cell_type": "markdown",
      "metadata": {
        "id": "vXbe5Dnmqf6l",
        "colab_type": "text"
      },
      "source": [
        "#### 1. Base de datos VGG16 maximo nivel data augmentation, todas las categorias"
      ]
    },
    {
      "cell_type": "code",
      "metadata": {
        "id": "Dci3zB6fxzsM",
        "colab_type": "code",
        "outputId": "983dcd11-43e5-428e-ce2b-b7a03ff765df",
        "colab": {
          "base_uri": "https://localhost:8080/",
          "height": 301
        }
      },
      "source": [
        "create_pickle_database(BASE_FOLDER_VGG16 , Complete_cat, img_size, pick_name_AugMx_ub_complet, Aug_level_max)"
      ],
      "execution_count": 0,
      "outputs": [
        {
          "output_type": "stream",
          "text": [
            "100%|██████████| 4/4 [00:02<00:00,  1.64it/s]\n",
            "100%|██████████| 12/12 [00:06<00:00,  1.89it/s]\n",
            "100%|██████████| 39/39 [00:23<00:00,  1.82it/s]\n",
            "100%|██████████| 22/22 [00:12<00:00,  1.78it/s]\n",
            "100%|██████████| 310/310 [02:53<00:00,  1.87it/s]\n",
            "100%|██████████| 1/1 [00:00<00:00,  1.82it/s]\n"
          ],
          "name": "stderr"
        },
        {
          "output_type": "stream",
          "text": [
            "Ratio data Augmentation:\n",
            "17.0\n",
            "\n",
            "Función ejecutada: create_training_data\n",
            "Tiempo de ejecución para algoritmo: 222.8458001613617\n",
            "Tamaño base de datos pickle:\n",
            "6596\n",
            "Función ejecutada: create_pickle_database\n",
            "Tiempo de ejecución para algoritmo: 243.58773708343506\n"
          ],
          "name": "stdout"
        },
        {
          "output_type": "execute_result",
          "data": {
            "text/plain": [
              "True"
            ]
          },
          "metadata": {
            "tags": []
          },
          "execution_count": 20
        }
      ]
    },
    {
      "cell_type": "markdown",
      "metadata": {
        "id": "GY2hm8KmquGp",
        "colab_type": "text"
      },
      "source": [
        "#### 2. Base de datos VGG16 nivel medio data augmentation, todas las categorias"
      ]
    },
    {
      "cell_type": "code",
      "metadata": {
        "id": "pdk_QFz9yEh4",
        "colab_type": "code",
        "outputId": "ae4ec45a-85a4-43b2-c061-64628afe820a",
        "colab": {
          "base_uri": "https://localhost:8080/",
          "height": 301
        }
      },
      "source": [
        "create_pickle_database(BASE_FOLDER_VGG16, Complete_cat, img_size, pick_name_Aug6_ub_complet, Aug_level_6)"
      ],
      "execution_count": 0,
      "outputs": [
        {
          "output_type": "stream",
          "text": [
            "100%|██████████| 4/4 [00:00<00:00, 96.15it/s]\n",
            "100%|██████████| 12/12 [00:00<00:00, 107.16it/s]\n",
            "100%|██████████| 39/39 [00:00<00:00, 111.43it/s]\n",
            "100%|██████████| 22/22 [00:00<00:00, 118.04it/s]\n",
            "100%|██████████| 310/310 [00:02<00:00, 104.35it/s]\n",
            "100%|██████████| 1/1 [00:00<00:00, 101.06it/s]\n"
          ],
          "name": "stderr"
        },
        {
          "output_type": "stream",
          "text": [
            "Ratio data Augmentation:\n",
            "9.0\n",
            "\n",
            "Función ejecutada: create_training_data\n",
            "Tiempo de ejecución para algoritmo: 3.700449228286743\n",
            "Tamaño base de datos pickle:\n",
            "3492\n",
            "Función ejecutada: create_pickle_database\n",
            "Tiempo de ejecución para algoritmo: 7.766133785247803\n"
          ],
          "name": "stdout"
        },
        {
          "output_type": "execute_result",
          "data": {
            "text/plain": [
              "True"
            ]
          },
          "metadata": {
            "tags": []
          },
          "execution_count": 21
        }
      ]
    },
    {
      "cell_type": "markdown",
      "metadata": {
        "id": "OAPLIK25q0fa",
        "colab_type": "text"
      },
      "source": [
        "#### 3. Base de datos VGG16 nivel bajo data augmentation, todas las categorias"
      ]
    },
    {
      "cell_type": "code",
      "metadata": {
        "id": "kijLrvCeyJLe",
        "colab_type": "code",
        "outputId": "9c8c6cfe-f6d4-487c-8eb4-7862d7b4951d",
        "colab": {
          "base_uri": "https://localhost:8080/",
          "height": 301
        }
      },
      "source": [
        "create_pickle_database(BASE_FOLDER_VGG16, Complete_cat, img_size, pick_name_Aug4_ub_complet, Aug_level_4)"
      ],
      "execution_count": 0,
      "outputs": [
        {
          "output_type": "stream",
          "text": [
            "100%|██████████| 4/4 [00:00<00:00, 117.38it/s]\n",
            "100%|██████████| 12/12 [00:00<00:00, 145.52it/s]\n",
            "100%|██████████| 39/39 [00:00<00:00, 156.90it/s]\n",
            "100%|██████████| 22/22 [00:00<00:00, 150.93it/s]\n",
            "100%|██████████| 310/310 [00:02<00:00, 139.60it/s]\n",
            "100%|██████████| 1/1 [00:00<00:00, 134.55it/s]\n"
          ],
          "name": "stderr"
        },
        {
          "output_type": "stream",
          "text": [
            "Ratio data Augmentation:\n",
            "4.0\n",
            "\n",
            "Función ejecutada: create_training_data\n",
            "Tiempo de ejecución para algoritmo: 2.7648558616638184\n",
            "Tamaño base de datos pickle:\n",
            "1552\n",
            "Función ejecutada: create_pickle_database\n",
            "Tiempo de ejecución para algoritmo: 4.301688194274902\n"
          ],
          "name": "stdout"
        },
        {
          "output_type": "execute_result",
          "data": {
            "text/plain": [
              "True"
            ]
          },
          "metadata": {
            "tags": []
          },
          "execution_count": 22
        }
      ]
    },
    {
      "cell_type": "markdown",
      "metadata": {
        "id": "-KseH8gYq3M2",
        "colab_type": "text"
      },
      "source": [
        "#### 4. Base de datos VGG16 sin data augmentation, todas las categorias"
      ]
    },
    {
      "cell_type": "code",
      "metadata": {
        "id": "N2z_bD_pyNOU",
        "colab_type": "code",
        "outputId": "40b38a8a-7aeb-440e-cfc8-69c062bc959e",
        "colab": {
          "base_uri": "https://localhost:8080/",
          "height": 301
        }
      },
      "source": [
        "create_pickle_database(BASE_FOLDER_VGG16, Complete_cat, img_size, pick_name_std_ub_complet, Aug_level_0)"
      ],
      "execution_count": 0,
      "outputs": [
        {
          "output_type": "stream",
          "text": [
            "100%|██████████| 4/4 [00:00<00:00, 207.24it/s]\n",
            "100%|██████████| 12/12 [00:00<00:00, 349.17it/s]\n",
            "100%|██████████| 39/39 [00:00<00:00, 288.79it/s]\n",
            "100%|██████████| 22/22 [00:00<00:00, 330.66it/s]\n",
            "100%|██████████| 310/310 [00:01<00:00, 305.33it/s]\n",
            "100%|██████████| 1/1 [00:00<00:00, 367.34it/s]\n"
          ],
          "name": "stderr"
        },
        {
          "output_type": "stream",
          "text": [
            "Ratio data Augmentation:\n",
            "1.0\n",
            "\n",
            "Función ejecutada: create_training_data\n",
            "Tiempo de ejecución para algoritmo: 1.2998034954071045\n",
            "Tamaño base de datos pickle:\n",
            "388\n",
            "Función ejecutada: create_pickle_database\n",
            "Tiempo de ejecución para algoritmo: 1.3837780952453613\n"
          ],
          "name": "stdout"
        },
        {
          "output_type": "execute_result",
          "data": {
            "text/plain": [
              "True"
            ]
          },
          "metadata": {
            "tags": []
          },
          "execution_count": 23
        }
      ]
    },
    {
      "cell_type": "markdown",
      "metadata": {
        "id": "WmN789f7rAb_",
        "colab_type": "text"
      },
      "source": [
        "#### Creamos base de datos balanceadas"
      ]
    },
    {
      "cell_type": "markdown",
      "metadata": {
        "id": "3pgzD0KUrDsu",
        "colab_type": "text"
      },
      "source": [
        "#### 1. Base de datos VGG16 balanceada, todas las categorias, tamaño base de datos final nivel bajo"
      ]
    },
    {
      "cell_type": "code",
      "metadata": {
        "id": "zbVSr4FUyRQN",
        "colab_type": "code",
        "outputId": "7d349023-9f13-48f8-d933-0648d152453e",
        "colab": {
          "base_uri": "https://localhost:8080/",
          "height": 799
        }
      },
      "source": [
        "create_pickle_database(BASE_FOLDER_VGG16, Complete_cat, img_size, pick_name_low_bal, Aug_level_0, low_bal)"
      ],
      "execution_count": 0,
      "outputs": [
        {
          "output_type": "stream",
          "text": [
            "100%|██████████| 4/4 [00:00<00:00, 243.56it/s]\n",
            "100%|██████████| 12/12 [00:00<00:00, 314.42it/s]"
          ],
          "name": "stderr"
        },
        {
          "output_type": "stream",
          "text": [
            "\n",
            "\n",
            "Imagenes Categoria: 0\n",
            "200\n",
            "\n"
          ],
          "name": "stdout"
        },
        {
          "output_type": "stream",
          "text": [
            "\n",
            "100%|██████████| 39/39 [00:00<00:00, 316.72it/s]"
          ],
          "name": "stderr"
        },
        {
          "output_type": "stream",
          "text": [
            "\n",
            "\n",
            "Imagenes Categoria: 1\n",
            "200\n",
            "\n"
          ],
          "name": "stdout"
        },
        {
          "output_type": "stream",
          "text": [
            "\n",
            "100%|██████████| 22/22 [00:00<00:00, 356.76it/s]"
          ],
          "name": "stderr"
        },
        {
          "output_type": "stream",
          "text": [
            "\n",
            "\n",
            "Imagenes Categoria: 2\n",
            "200\n",
            "\n"
          ],
          "name": "stdout"
        },
        {
          "output_type": "stream",
          "text": [
            "\n",
            "  7%|▋         | 23/310 [00:00<00:01, 224.74it/s]"
          ],
          "name": "stderr"
        },
        {
          "output_type": "stream",
          "text": [
            "\n",
            "\n",
            "Imagenes Categoria: 3\n",
            "200\n",
            "\n"
          ],
          "name": "stdout"
        },
        {
          "output_type": "stream",
          "text": [
            " 63%|██████▎   | 195/310 [00:00<00:00, 266.70it/s]\n",
            "100%|██████████| 1/1 [00:00<00:00, 168.13it/s]\n"
          ],
          "name": "stderr"
        },
        {
          "output_type": "stream",
          "text": [
            "\n",
            "\n",
            "Imagenes Categoria: 4\n",
            "203\n",
            "\n",
            "\n",
            "\n",
            "Imagenes Categoria: 5\n",
            "200\n",
            "\n",
            "\n",
            "Función ejecutada: create_training_data\n",
            "Tiempo de ejecución para algoritmo: 2.496094226837158\n",
            "Tamaño base de datos pickle:\n",
            "1203\n",
            "Función ejecutada: create_pickle_database\n",
            "Tiempo de ejecución para algoritmo: 3.9155828952789307\n"
          ],
          "name": "stdout"
        },
        {
          "output_type": "execute_result",
          "data": {
            "text/plain": [
              "True"
            ]
          },
          "metadata": {
            "tags": []
          },
          "execution_count": 24
        }
      ]
    },
    {
      "cell_type": "markdown",
      "metadata": {
        "id": "MFmuXLMerHAM",
        "colab_type": "text"
      },
      "source": [
        "#### 2. Base de datos VGG16 balanceada, todas las categorias, tamaño base de datos final nivel medio"
      ]
    },
    {
      "cell_type": "code",
      "metadata": {
        "id": "8CgW4WgzyWM8",
        "colab_type": "code",
        "outputId": "acae4606-8066-4407-a0a6-d15085a2e45a",
        "colab": {
          "base_uri": "https://localhost:8080/",
          "height": 799
        }
      },
      "source": [
        "create_pickle_database(BASE_FOLDER_VGG16, Complete_cat, img_size, pick_name_medium_bal, Aug_level_0, medium_bal)"
      ],
      "execution_count": 0,
      "outputs": [
        {
          "output_type": "stream",
          "text": [
            "100%|██████████| 4/4 [00:00<00:00, 304.53it/s]\n",
            "100%|██████████| 12/12 [00:00<00:00, 388.00it/s]"
          ],
          "name": "stderr"
        },
        {
          "output_type": "stream",
          "text": [
            "\n",
            "\n",
            "Imagenes Categoria: 0\n",
            "500\n",
            "\n"
          ],
          "name": "stdout"
        },
        {
          "output_type": "stream",
          "text": [
            "\n",
            "100%|██████████| 39/39 [00:00<00:00, 447.65it/s]"
          ],
          "name": "stderr"
        },
        {
          "output_type": "stream",
          "text": [
            "\n",
            "\n",
            "Imagenes Categoria: 1\n",
            "500\n",
            "\n"
          ],
          "name": "stdout"
        },
        {
          "output_type": "stream",
          "text": [
            "\n",
            "100%|██████████| 22/22 [00:00<00:00, 370.93it/s]"
          ],
          "name": "stderr"
        },
        {
          "output_type": "stream",
          "text": [
            "\n",
            "\n",
            "Imagenes Categoria: 2\n",
            "500\n",
            "\n"
          ],
          "name": "stdout"
        },
        {
          "output_type": "stream",
          "text": [
            "\n",
            " 12%|█▏        | 37/310 [00:00<00:00, 363.38it/s]"
          ],
          "name": "stderr"
        },
        {
          "output_type": "stream",
          "text": [
            "\n",
            "\n",
            "Imagenes Categoria: 3\n",
            "500\n",
            "\n"
          ],
          "name": "stdout"
        },
        {
          "output_type": "stream",
          "text": [
            "100%|██████████| 310/310 [00:00<00:00, 359.92it/s]\n",
            "100%|██████████| 1/1 [00:00<00:00, 230.42it/s]"
          ],
          "name": "stderr"
        },
        {
          "output_type": "stream",
          "text": [
            "\n",
            "\n",
            "Imagenes Categoria: 4\n",
            "502\n",
            "\n"
          ],
          "name": "stdout"
        },
        {
          "output_type": "stream",
          "text": [
            "\n"
          ],
          "name": "stderr"
        },
        {
          "output_type": "stream",
          "text": [
            "\n",
            "\n",
            "Imagenes Categoria: 5\n",
            "500\n",
            "\n",
            "\n",
            "Función ejecutada: create_training_data\n",
            "Tiempo de ejecución para algoritmo: 5.397103309631348\n",
            "Tamaño base de datos pickle:\n",
            "3002\n",
            "Función ejecutada: create_pickle_database\n",
            "Tiempo de ejecución para algoritmo: 8.25750732421875\n"
          ],
          "name": "stdout"
        },
        {
          "output_type": "execute_result",
          "data": {
            "text/plain": [
              "True"
            ]
          },
          "metadata": {
            "tags": []
          },
          "execution_count": 25
        }
      ]
    },
    {
      "cell_type": "markdown",
      "metadata": {
        "id": "tmGHvoG3w1RP",
        "colab_type": "text"
      },
      "source": [
        "#### 3. Base de datos VGG16 balanceada, todas las categorias, tamaño base de datos final nivel alto"
      ]
    },
    {
      "cell_type": "code",
      "metadata": {
        "id": "5ivWLa8iyZlE",
        "colab_type": "code",
        "outputId": "b87a1ecb-2e52-4673-b70c-a301b2e81f1a",
        "colab": {
          "base_uri": "https://localhost:8080/",
          "height": 799
        }
      },
      "source": [
        "create_pickle_database(BASE_FOLDER_VGG16, Complete_cat, img_size, pick_name_high_bal, Aug_level_0, high_bal)"
      ],
      "execution_count": 0,
      "outputs": [
        {
          "output_type": "stream",
          "text": [
            "100%|██████████| 4/4 [00:00<00:00, 362.69it/s]\n",
            "100%|██████████| 12/12 [00:00<00:00, 277.07it/s]"
          ],
          "name": "stderr"
        },
        {
          "output_type": "stream",
          "text": [
            "\n",
            "\n",
            "Imagenes Categoria: 0\n",
            "1000\n",
            "\n"
          ],
          "name": "stdout"
        },
        {
          "output_type": "stream",
          "text": [
            "\n",
            "100%|██████████| 39/39 [00:00<00:00, 320.44it/s]"
          ],
          "name": "stderr"
        },
        {
          "output_type": "stream",
          "text": [
            "\n",
            "\n",
            "Imagenes Categoria: 1\n",
            "1000\n",
            "\n"
          ],
          "name": "stdout"
        },
        {
          "output_type": "stream",
          "text": [
            "\n",
            "100%|██████████| 22/22 [00:00<00:00, 308.04it/s]"
          ],
          "name": "stderr"
        },
        {
          "output_type": "stream",
          "text": [
            "\n",
            "\n",
            "Imagenes Categoria: 2\n",
            "1000\n",
            "\n"
          ],
          "name": "stdout"
        },
        {
          "output_type": "stream",
          "text": [
            "\n",
            " 12%|█▏        | 37/310 [00:00<00:00, 367.15it/s]"
          ],
          "name": "stderr"
        },
        {
          "output_type": "stream",
          "text": [
            "\n",
            "\n",
            "Imagenes Categoria: 3\n",
            "1000\n",
            "\n"
          ],
          "name": "stdout"
        },
        {
          "output_type": "stream",
          "text": [
            "100%|██████████| 310/310 [00:00<00:00, 380.52it/s]\n",
            "100%|██████████| 1/1 [00:00<00:00, 172.12it/s]"
          ],
          "name": "stderr"
        },
        {
          "output_type": "stream",
          "text": [
            "\n",
            "\n",
            "Imagenes Categoria: 4\n",
            "1000\n",
            "\n"
          ],
          "name": "stdout"
        },
        {
          "output_type": "stream",
          "text": [
            "\n"
          ],
          "name": "stderr"
        },
        {
          "output_type": "stream",
          "text": [
            "\n",
            "\n",
            "Imagenes Categoria: 5\n",
            "1000\n",
            "\n",
            "\n",
            "Función ejecutada: create_training_data\n",
            "Tiempo de ejecución para algoritmo: 9.308899164199829\n",
            "Tamaño base de datos pickle:\n",
            "6000\n",
            "Función ejecutada: create_pickle_database\n",
            "Tiempo de ejecución para algoritmo: 42.73024821281433\n"
          ],
          "name": "stdout"
        },
        {
          "output_type": "execute_result",
          "data": {
            "text/plain": [
              "True"
            ]
          },
          "metadata": {
            "tags": []
          },
          "execution_count": 26
        }
      ]
    },
    {
      "cell_type": "markdown",
      "metadata": {
        "id": "1cgdyQ0FFc3g",
        "colab_type": "text"
      },
      "source": [
        "### Crear bases de datos basadas en imagenes filtradas manualmente"
      ]
    },
    {
      "cell_type": "markdown",
      "metadata": {
        "id": "jzsuCOF-u2iH",
        "colab_type": "text"
      },
      "source": [
        "#### Creamos base de datos sin balancear categorias"
      ]
    },
    {
      "cell_type": "markdown",
      "metadata": {
        "id": "lzl5FXkwu4lW",
        "colab_type": "text"
      },
      "source": [
        "#### 1. Base de datos manual maximo nivel data augmentation, todas las categorias"
      ]
    },
    {
      "cell_type": "code",
      "metadata": {
        "id": "qZzWfes8yejU",
        "colab_type": "code",
        "outputId": "3c52b584-0d45-4aa6-c06a-fe6bbb5681db",
        "colab": {
          "base_uri": "https://localhost:8080/",
          "height": 301
        }
      },
      "source": [
        "create_pickle_database(BASE_FOLDER_manual , Complete_cat, img_size, pick_name_AugMx_ub_complet, Aug_level_max)"
      ],
      "execution_count": 0,
      "outputs": [
        {
          "output_type": "stream",
          "text": [
            "100%|██████████| 62/62 [00:01<00:00, 46.55it/s]\n",
            "100%|██████████| 135/135 [00:02<00:00, 45.75it/s]\n",
            "100%|██████████| 195/195 [00:03<00:00, 54.38it/s]\n",
            "100%|██████████| 161/161 [00:03<00:00, 46.69it/s]\n",
            "100%|██████████| 470/470 [00:12<00:00, 36.65it/s]\n",
            "100%|██████████| 29/29 [00:00<00:00, 57.70it/s]\n"
          ],
          "name": "stderr"
        },
        {
          "output_type": "stream",
          "text": [
            "Ratio data Augmentation:\n",
            "13.0\n",
            "\n",
            "Función ejecutada: create_training_data\n",
            "Tiempo de ejecución para algoritmo: 24.72007393836975\n",
            "Tamaño base de datos pickle:\n",
            "13676\n",
            "Función ejecutada: create_pickle_database\n",
            "Tiempo de ejecución para algoritmo: 111.3948106765747\n"
          ],
          "name": "stdout"
        },
        {
          "output_type": "execute_result",
          "data": {
            "text/plain": [
              "True"
            ]
          },
          "metadata": {
            "tags": []
          },
          "execution_count": 15
        }
      ]
    },
    {
      "cell_type": "markdown",
      "metadata": {
        "id": "HgwzUTcLu7tc",
        "colab_type": "text"
      },
      "source": [
        "#### 2. Base de datos manual nivel medio data augmentation, todas las categorias"
      ]
    },
    {
      "cell_type": "code",
      "metadata": {
        "id": "i3ibHhp8yjq1",
        "colab_type": "code",
        "outputId": "82277489-b383-4216-f9cb-10c785ffacd6",
        "colab": {
          "base_uri": "https://localhost:8080/",
          "height": 301
        }
      },
      "source": [
        "create_pickle_database(BASE_FOLDER_manual, Complete_cat, img_size, pick_name_Aug6_ub_complet, Aug_level_6)"
      ],
      "execution_count": 0,
      "outputs": [
        {
          "output_type": "stream",
          "text": [
            "100%|██████████| 62/62 [00:01<00:00, 49.14it/s]\n",
            "100%|██████████| 135/135 [00:02<00:00, 44.87it/s]\n",
            "100%|██████████| 195/195 [00:03<00:00, 61.61it/s]\n",
            "100%|██████████| 161/161 [00:03<00:00, 53.11it/s]\n",
            "100%|██████████| 470/470 [00:12<00:00, 37.73it/s]\n",
            "100%|██████████| 29/29 [00:00<00:00, 60.41it/s]\n"
          ],
          "name": "stderr"
        },
        {
          "output_type": "stream",
          "text": [
            "Ratio data Augmentation:\n",
            "9.0\n",
            "\n",
            "Función ejecutada: create_training_data\n",
            "Tiempo de ejecución para algoritmo: 23.284021377563477\n",
            "Tamaño base de datos pickle:\n",
            "9468\n",
            "Función ejecutada: create_pickle_database\n",
            "Tiempo de ejecución para algoritmo: 66.27956891059875\n"
          ],
          "name": "stdout"
        },
        {
          "output_type": "execute_result",
          "data": {
            "text/plain": [
              "True"
            ]
          },
          "metadata": {
            "tags": []
          },
          "execution_count": 17
        }
      ]
    },
    {
      "cell_type": "markdown",
      "metadata": {
        "id": "sXJ3ka3Ru-kk",
        "colab_type": "text"
      },
      "source": [
        "#### 3. Base de datos manual nivel bajo data augmentation, todas las categorias"
      ]
    },
    {
      "cell_type": "code",
      "metadata": {
        "id": "1kOz5ycTymV1",
        "colab_type": "code",
        "outputId": "1c726408-4e8b-4c45-9c96-261efb98b38b",
        "colab": {
          "base_uri": "https://localhost:8080/",
          "height": 301
        }
      },
      "source": [
        "create_pickle_database(BASE_FOLDER_manual, Complete_cat, img_size, pick_name_Aug4_ub_complet, Aug_level_4)"
      ],
      "execution_count": 0,
      "outputs": [
        {
          "output_type": "stream",
          "text": [
            "100%|██████████| 62/62 [00:01<00:00, 50.89it/s]\n",
            "100%|██████████| 135/135 [00:02<00:00, 52.40it/s]\n",
            "100%|██████████| 195/195 [00:03<00:00, 63.72it/s]\n",
            "100%|██████████| 161/161 [00:03<00:00, 65.87it/s]\n",
            "100%|██████████| 470/470 [00:12<00:00, 37.94it/s]\n",
            "100%|██████████| 29/29 [00:00<00:00, 66.39it/s]\n"
          ],
          "name": "stderr"
        },
        {
          "output_type": "stream",
          "text": [
            "Ratio data Augmentation:\n",
            "4.0\n",
            "\n",
            "Función ejecutada: create_training_data\n",
            "Tiempo de ejecución para algoritmo: 23.027857303619385\n",
            "Tamaño base de datos pickle:\n",
            "4208\n",
            "Función ejecutada: create_pickle_database\n",
            "Tiempo de ejecución para algoritmo: 43.90852165222168\n"
          ],
          "name": "stdout"
        },
        {
          "output_type": "execute_result",
          "data": {
            "text/plain": [
              "True"
            ]
          },
          "metadata": {
            "tags": []
          },
          "execution_count": 18
        }
      ]
    },
    {
      "cell_type": "markdown",
      "metadata": {
        "id": "5pMpxvYjvBGM",
        "colab_type": "text"
      },
      "source": [
        "#### 4. Base de datos manual sin data augmentation, todas las categorias"
      ]
    },
    {
      "cell_type": "code",
      "metadata": {
        "id": "4B40jr49yrg9",
        "colab_type": "code",
        "outputId": "58fe99dd-5aca-4aab-fcff-1b732fa22a3c",
        "colab": {
          "base_uri": "https://localhost:8080/",
          "height": 301
        }
      },
      "source": [
        "create_pickle_database(BASE_FOLDER_manual, Complete_cat, img_size, pick_name_std_ub_complet, Aug_level_0)"
      ],
      "execution_count": 0,
      "outputs": [
        {
          "output_type": "stream",
          "text": [
            "100%|██████████| 62/62 [00:00<00:00, 70.52it/s]\n",
            "100%|██████████| 135/135 [00:02<00:00, 65.39it/s]\n",
            "100%|██████████| 195/195 [00:02<00:00, 71.13it/s]\n",
            "100%|██████████| 161/161 [00:03<00:00, 59.69it/s]\n",
            "100%|██████████| 470/470 [00:11<00:00, 40.05it/s]\n",
            "100%|██████████| 29/29 [00:00<00:00, 86.64it/s]\n"
          ],
          "name": "stderr"
        },
        {
          "output_type": "stream",
          "text": [
            "Ratio data Augmentation:\n",
            "1.0\n",
            "\n",
            "Función ejecutada: create_training_data\n",
            "Tiempo de ejecución para algoritmo: 20.879185914993286\n",
            "Tamaño base de datos pickle:\n",
            "1052\n",
            "Función ejecutada: create_pickle_database\n",
            "Tiempo de ejecución para algoritmo: 21.13108539581299\n"
          ],
          "name": "stdout"
        },
        {
          "output_type": "execute_result",
          "data": {
            "text/plain": [
              "True"
            ]
          },
          "metadata": {
            "tags": []
          },
          "execution_count": 19
        }
      ]
    },
    {
      "cell_type": "markdown",
      "metadata": {
        "id": "WGhmcX2XvEK0",
        "colab_type": "text"
      },
      "source": [
        "#### Creamos base de datos balanceadas"
      ]
    },
    {
      "cell_type": "markdown",
      "metadata": {
        "id": "kMzZ_RrivG8M",
        "colab_type": "text"
      },
      "source": [
        "#### 1. Base de datos manual balanceada, todas las categorias, tamaño base de datos final nivel bajo"
      ]
    },
    {
      "cell_type": "code",
      "metadata": {
        "id": "4rlbVwLPzxVO",
        "colab_type": "code",
        "outputId": "0491e30c-1943-4c41-82e1-26b41ddc12eb",
        "colab": {
          "base_uri": "https://localhost:8080/",
          "height": 1000
        }
      },
      "source": [
        "create_pickle_database(BASE_FOLDER_manual, Complete_cat, img_size, pick_name_low_bal, Aug_level_0, low_bal)"
      ],
      "execution_count": 0,
      "outputs": [
        {
          "output_type": "stream",
          "text": [
            "100%|██████████| 62/62 [00:40<00:00,  1.71it/s]\n",
            "  0%|          | 0/135 [00:00<?, ?it/s]"
          ],
          "name": "stderr"
        },
        {
          "output_type": "stream",
          "text": [
            "\n",
            "\n",
            "Imagenes Categoria: 0\n",
            "200\n",
            "\n"
          ],
          "name": "stdout"
        },
        {
          "output_type": "stream",
          "text": [
            "100%|██████████| 135/135 [01:27<00:00,  1.57it/s]\n",
            "  0%|          | 0/195 [00:00<?, ?it/s]"
          ],
          "name": "stderr"
        },
        {
          "output_type": "stream",
          "text": [
            "\n",
            "\n",
            "Imagenes Categoria: 1\n",
            "201\n",
            "\n"
          ],
          "name": "stdout"
        },
        {
          "output_type": "stream",
          "text": [
            "100%|██████████| 195/195 [01:58<00:00,  1.63it/s]\n",
            "  0%|          | 0/161 [00:00<?, ?it/s]"
          ],
          "name": "stderr"
        },
        {
          "output_type": "stream",
          "text": [
            "\n",
            "\n",
            "Imagenes Categoria: 2\n",
            "201\n",
            "\n"
          ],
          "name": "stdout"
        },
        {
          "output_type": "stream",
          "text": [
            "100%|██████████| 161/161 [01:41<00:00,  1.57it/s]\n",
            "  0%|          | 0/470 [00:00<?, ?it/s]"
          ],
          "name": "stderr"
        },
        {
          "output_type": "stream",
          "text": [
            "\n",
            "\n",
            "Imagenes Categoria: 3\n",
            "200\n",
            "\n"
          ],
          "name": "stdout"
        },
        {
          "output_type": "stream",
          "text": [
            " 42%|████▏     | 199/470 [02:14<02:50,  1.58it/s]\n",
            "  0%|          | 0/29 [00:00<?, ?it/s]\u001b[A"
          ],
          "name": "stderr"
        },
        {
          "output_type": "stream",
          "text": [
            "\n",
            "\n",
            "Imagenes Categoria: 4\n",
            "203\n",
            "\n"
          ],
          "name": "stdout"
        },
        {
          "output_type": "stream",
          "text": [
            "\n",
            "  3%|▎         | 1/29 [00:00<00:27,  1.00it/s]\u001b[A\n",
            "  7%|▋         | 2/29 [00:01<00:24,  1.11it/s]\u001b[A\n",
            " 10%|█         | 3/29 [00:02<00:21,  1.21it/s]\u001b[A\n",
            " 14%|█▍        | 4/29 [00:02<00:19,  1.29it/s]\u001b[A\n",
            " 17%|█▋        | 5/29 [00:03<00:17,  1.34it/s]\u001b[A\n",
            " 21%|██        | 6/29 [00:04<00:16,  1.40it/s]\u001b[A\n",
            " 24%|██▍       | 7/29 [00:04<00:15,  1.42it/s]\u001b[A\n",
            " 28%|██▊       | 8/29 [00:05<00:14,  1.47it/s]\u001b[A\n",
            " 31%|███       | 9/29 [00:06<00:13,  1.51it/s]\u001b[A\n",
            " 34%|███▍      | 10/29 [00:06<00:12,  1.51it/s]\u001b[A\n",
            " 38%|███▊      | 11/29 [00:07<00:11,  1.54it/s]\u001b[A\n",
            " 41%|████▏     | 12/29 [00:08<00:10,  1.58it/s]\u001b[A\n",
            " 45%|████▍     | 13/29 [00:08<00:09,  1.64it/s]\u001b[A\n",
            " 48%|████▊     | 14/29 [00:09<00:09,  1.57it/s]\u001b[A\n",
            " 52%|█████▏    | 15/29 [00:09<00:08,  1.60it/s]\u001b[A\n",
            " 55%|█████▌    | 16/29 [00:10<00:08,  1.54it/s]\u001b[A\n",
            " 59%|█████▊    | 17/29 [00:11<00:07,  1.62it/s]\u001b[A\n",
            " 62%|██████▏   | 18/29 [00:11<00:06,  1.73it/s]\u001b[A\n",
            " 66%|██████▌   | 19/29 [00:12<00:06,  1.62it/s]\u001b[A\n",
            " 69%|██████▉   | 20/29 [00:13<00:05,  1.63it/s]\u001b[A\n",
            " 72%|███████▏  | 21/29 [00:13<00:04,  1.60it/s]\u001b[A\n",
            " 76%|███████▌  | 22/29 [00:14<00:04,  1.67it/s]\u001b[A\n",
            " 79%|███████▉  | 23/29 [00:14<00:03,  1.65it/s]\u001b[A\n",
            " 83%|████████▎ | 24/29 [00:15<00:02,  1.77it/s]\u001b[A\n",
            " 86%|████████▌ | 25/29 [00:16<00:02,  1.61it/s]\u001b[A\n",
            " 90%|████████▉ | 26/29 [00:16<00:01,  1.58it/s]\u001b[A\n",
            " 93%|█████████▎| 27/29 [00:17<00:01,  1.49it/s]\u001b[A\n",
            " 97%|█████████▋| 28/29 [00:17<00:00,  1.59it/s]\u001b[A\n",
            "100%|██████████| 29/29 [00:18<00:00,  1.55it/s]\u001b[A\n",
            "\u001b[A"
          ],
          "name": "stderr"
        },
        {
          "output_type": "stream",
          "text": [
            "\n",
            "\n",
            "Imagenes Categoria: 5\n",
            "200\n",
            "\n",
            "\n",
            "Función ejecutada: create_training_data\n",
            "Tiempo de ejecución para algoritmo: 504.67422795295715\n",
            "Tamaño base de datos pickle:\n",
            "1205\n",
            "Función ejecutada: create_pickle_database\n",
            "Tiempo de ejecución para algoritmo: 507.69601702690125\n"
          ],
          "name": "stdout"
        },
        {
          "output_type": "execute_result",
          "data": {
            "text/plain": [
              "True"
            ]
          },
          "metadata": {
            "tags": []
          },
          "execution_count": 13
        }
      ]
    },
    {
      "cell_type": "markdown",
      "metadata": {
        "id": "Oh8CJqt6vKSE",
        "colab_type": "text"
      },
      "source": [
        "#### 2. Base de datos manual balanceada, todas las categorias, tamaño base de datos final nivel medio"
      ]
    },
    {
      "cell_type": "code",
      "metadata": {
        "id": "9je2VMcyz1ZP",
        "colab_type": "code",
        "outputId": "814c096f-43fc-496c-a7fc-f64669fd51a6",
        "colab": {
          "base_uri": "https://localhost:8080/",
          "height": 1000
        }
      },
      "source": [
        "create_pickle_database(BASE_FOLDER_manual, Complete_cat, img_size, pick_name_medium_bal, Aug_level_0, medium_bal)"
      ],
      "execution_count": 0,
      "outputs": [
        {
          "output_type": "stream",
          "text": [
            "\n",
            "  0%|          | 0/62 [00:00<?, ?it/s]\u001b[A\n",
            "  6%|▋         | 4/62 [00:00<00:01, 33.73it/s]\u001b[A\n",
            " 19%|█▉        | 12/62 [00:00<00:01, 33.62it/s]\u001b[A\n",
            " 32%|███▏      | 20/62 [00:00<00:01, 40.63it/s]\u001b[A\n",
            " 52%|█████▏    | 32/62 [00:00<00:00, 49.09it/s]\u001b[A\n",
            " 73%|███████▎  | 45/62 [00:00<00:00, 60.25it/s]\u001b[A\n",
            " 87%|████████▋ | 54/62 [00:00<00:00, 66.16it/s]\u001b[A\n",
            "100%|██████████| 62/62 [00:00<00:00, 62.75it/s]\u001b[A\n",
            "\u001b[A\n",
            "  0%|          | 0/135 [00:00<?, ?it/s]\u001b[A\n",
            "  1%|          | 1/135 [00:00<00:15,  8.91it/s]\u001b[A"
          ],
          "name": "stderr"
        },
        {
          "output_type": "stream",
          "text": [
            "\n",
            "\n",
            "Imagenes Categoria: 0\n",
            "500\n",
            "\n"
          ],
          "name": "stdout"
        },
        {
          "output_type": "stream",
          "text": [
            "\n",
            "  1%|▏         | 2/135 [00:00<00:15,  8.78it/s]\u001b[A\n",
            "  3%|▎         | 4/135 [00:00<00:13,  9.57it/s]\u001b[A\n",
            " 14%|█▍        | 19/135 [00:00<00:08, 13.25it/s]\u001b[A\n",
            " 24%|██▎       | 32/135 [00:00<00:05, 17.90it/s]\u001b[A\n",
            " 33%|███▎      | 45/135 [00:00<00:03, 24.08it/s]\u001b[A\n",
            " 39%|███▉      | 53/135 [00:00<00:02, 29.11it/s]\u001b[A\n",
            " 46%|████▌     | 62/135 [00:00<00:02, 36.41it/s]\u001b[A\n",
            " 54%|█████▍    | 73/135 [00:01<00:01, 44.39it/s]\u001b[A\n",
            " 61%|██████    | 82/135 [00:01<00:01, 52.22it/s]\u001b[A\n",
            " 67%|██████▋   | 91/135 [00:01<00:00, 54.81it/s]\u001b[A\n",
            " 73%|███████▎  | 99/135 [00:01<00:00, 54.50it/s]\u001b[A\n",
            " 79%|███████▉  | 107/135 [00:01<00:00, 58.73it/s]\u001b[A\n",
            " 85%|████████▌ | 115/135 [00:01<00:00, 57.71it/s]\u001b[A\n",
            " 90%|█████████ | 122/135 [00:01<00:00, 57.62it/s]\u001b[A\n",
            " 99%|█████████▊| 133/135 [00:01<00:00, 67.05it/s]\u001b[A\n",
            "100%|██████████| 135/135 [00:02<00:00, 66.56it/s]\u001b[A\n",
            "  0%|          | 0/195 [00:00<?, ?it/s]\u001b[A\n",
            "  4%|▎         | 7/195 [00:00<00:02, 68.73it/s]\u001b[A"
          ],
          "name": "stderr"
        },
        {
          "output_type": "stream",
          "text": [
            "\n",
            "\n",
            "Imagenes Categoria: 1\n",
            "501\n",
            "\n"
          ],
          "name": "stdout"
        },
        {
          "output_type": "stream",
          "text": [
            "\n",
            "  8%|▊         | 16/195 [00:00<00:02, 72.58it/s]\u001b[A\n",
            " 12%|█▏        | 23/195 [00:00<00:02, 69.30it/s]\u001b[A\n",
            " 16%|█▌        | 31/195 [00:00<00:02, 71.48it/s]\u001b[A\n",
            " 21%|██        | 41/195 [00:00<00:01, 77.23it/s]\u001b[A\n",
            " 25%|██▍       | 48/195 [00:00<00:02, 73.45it/s]\u001b[A\n",
            " 29%|██▉       | 57/195 [00:00<00:01, 76.77it/s]\u001b[A\n",
            " 34%|███▍      | 67/195 [00:00<00:01, 82.04it/s]\u001b[A\n",
            " 41%|████      | 79/195 [00:00<00:01, 90.44it/s]\u001b[A\n",
            " 46%|████▌     | 89/195 [00:01<00:01, 89.63it/s]\u001b[A\n",
            " 51%|█████     | 99/195 [00:01<00:01, 81.93it/s]\u001b[A\n",
            " 56%|█████▌    | 109/195 [00:01<00:01, 85.82it/s]\u001b[A\n",
            " 61%|██████    | 119/195 [00:01<00:00, 89.46it/s]\u001b[A\n",
            " 67%|██████▋   | 130/195 [00:01<00:00, 91.95it/s]\u001b[A\n",
            " 72%|███████▏  | 140/195 [00:01<00:00, 86.91it/s]\u001b[A\n",
            " 76%|███████▋  | 149/195 [00:01<00:00, 79.11it/s]\u001b[A\n",
            " 81%|████████  | 158/195 [00:01<00:00, 78.73it/s]\u001b[A\n",
            " 86%|████████▌ | 168/195 [00:02<00:00, 83.76it/s]\u001b[A\n",
            " 91%|█████████ | 177/195 [00:02<00:00, 82.30it/s]\u001b[A\n",
            " 95%|█████████▌| 186/195 [00:02<00:00, 78.39it/s]\u001b[A\n",
            "100%|██████████| 195/195 [00:02<00:00, 79.14it/s]\u001b[A\n",
            "\u001b[A\n",
            "  0%|          | 0/161 [00:00<?, ?it/s]\u001b[A\n",
            "  1%|          | 1/161 [00:00<00:16,  9.82it/s]\u001b[A"
          ],
          "name": "stderr"
        },
        {
          "output_type": "stream",
          "text": [
            "\n",
            "\n",
            "Imagenes Categoria: 2\n",
            "501\n",
            "\n"
          ],
          "name": "stdout"
        },
        {
          "output_type": "stream",
          "text": [
            "\n",
            "  1%|          | 2/161 [00:00<00:16,  9.64it/s]\u001b[A\n",
            "  2%|▏         | 3/161 [00:00<00:18,  8.51it/s]\u001b[A\n",
            "  2%|▏         | 4/161 [00:00<00:23,  6.69it/s]\u001b[A\n",
            "  4%|▍         | 7/161 [00:00<00:17,  8.63it/s]\u001b[A\n",
            "  9%|▊         | 14/161 [00:00<00:12, 11.68it/s]\u001b[A\n",
            " 14%|█▎        | 22/161 [00:00<00:08, 15.64it/s]\u001b[A\n",
            " 20%|█▉        | 32/161 [00:01<00:06, 20.89it/s]\u001b[A\n",
            " 25%|██▍       | 40/161 [00:01<00:04, 25.96it/s]\u001b[A\n",
            " 29%|██▊       | 46/161 [00:01<00:03, 30.68it/s]\u001b[A\n",
            " 34%|███▎      | 54/161 [00:01<00:02, 37.31it/s]\u001b[A\n",
            " 39%|███▉      | 63/161 [00:01<00:02, 44.68it/s]\u001b[A\n",
            " 44%|████▍     | 71/161 [00:01<00:01, 50.17it/s]\u001b[A\n",
            " 50%|████▉     | 80/161 [00:01<00:01, 57.03it/s]\u001b[A\n",
            " 55%|█████▌    | 89/161 [00:01<00:01, 63.77it/s]\u001b[A\n",
            " 60%|██████    | 97/161 [00:01<00:01, 62.49it/s]\u001b[A\n",
            " 66%|██████▌   | 106/161 [00:02<00:00, 67.21it/s]\u001b[A\n",
            " 71%|███████   | 114/161 [00:02<00:00, 69.87it/s]\u001b[A\n",
            " 76%|███████▌  | 122/161 [00:02<00:00, 69.96it/s]\u001b[A\n",
            " 82%|████████▏ | 132/161 [00:02<00:00, 75.35it/s]\u001b[A\n",
            " 87%|████████▋ | 140/161 [00:02<00:00, 76.32it/s]\u001b[A\n",
            " 93%|█████████▎| 149/161 [00:02<00:00, 79.58it/s]\u001b[A\n",
            " 98%|█████████▊| 158/161 [00:02<00:00, 77.04it/s]\u001b[A\n",
            "100%|██████████| 161/161 [00:02<00:00, 58.67it/s]\u001b[A\n",
            "  0%|          | 0/470 [00:00<?, ?it/s]\u001b[A"
          ],
          "name": "stderr"
        },
        {
          "output_type": "stream",
          "text": [
            "\n",
            "\n",
            "Imagenes Categoria: 3\n",
            "500\n",
            "\n"
          ],
          "name": "stdout"
        },
        {
          "output_type": "stream",
          "text": [
            "\n",
            "  0%|          | 2/470 [00:00<01:22,  5.69it/s]\u001b[A\n",
            "  1%|          | 3/470 [00:00<01:35,  4.90it/s]\u001b[A\n",
            "  1%|          | 4/470 [00:00<01:35,  4.90it/s]\u001b[A\n",
            "  1%|▏         | 6/470 [00:00<01:13,  6.29it/s]\u001b[A\n",
            "  2%|▏         | 8/470 [00:01<01:00,  7.61it/s]\u001b[A\n",
            "  2%|▏         | 10/470 [00:01<00:56,  8.19it/s]\u001b[A\n",
            "  3%|▎         | 12/470 [00:01<00:56,  8.08it/s]\u001b[A\n",
            "  4%|▍         | 18/470 [00:01<00:41, 10.89it/s]\u001b[A\n",
            "  5%|▌         | 24/470 [00:01<00:31, 14.35it/s]\u001b[A\n",
            "  6%|▋         | 30/470 [00:01<00:23, 18.41it/s]\u001b[A\n",
            "  8%|▊         | 36/470 [00:01<00:18, 23.11it/s]\u001b[A\n",
            "  9%|▉         | 42/470 [00:02<00:15, 27.68it/s]\u001b[A\n",
            " 10%|█         | 48/470 [00:02<00:12, 32.71it/s]\u001b[A\n",
            " 11%|█▏        | 54/470 [00:02<00:11, 37.31it/s]\u001b[A\n",
            " 13%|█▎        | 60/470 [00:02<00:10, 40.28it/s]\u001b[A\n",
            " 14%|█▍        | 66/470 [00:02<00:09, 44.15it/s]\u001b[A\n",
            " 16%|█▌        | 73/470 [00:02<00:08, 48.29it/s]\u001b[A\n",
            " 17%|█▋        | 79/470 [00:02<00:07, 51.15it/s]\u001b[A\n",
            " 18%|█▊        | 86/470 [00:02<00:07, 54.09it/s]\u001b[A\n",
            " 20%|█▉        | 92/470 [00:02<00:06, 55.72it/s]\u001b[A\n",
            " 21%|██        | 98/470 [00:03<00:06, 55.11it/s]\u001b[A\n",
            " 22%|██▏       | 105/470 [00:03<00:06, 55.91it/s]\u001b[A\n",
            " 24%|██▎       | 111/470 [00:03<00:06, 56.23it/s]\u001b[A\n",
            " 25%|██▍       | 117/470 [00:03<00:06, 54.52it/s]\u001b[A\n",
            " 26%|██▌       | 123/470 [00:03<00:06, 54.24it/s]\u001b[A\n",
            " 27%|██▋       | 129/470 [00:03<00:06, 50.45it/s]\u001b[A\n",
            " 29%|██▊       | 135/470 [00:03<00:06, 51.87it/s]\u001b[A\n",
            " 30%|███       | 141/470 [00:03<00:06, 50.98it/s]\u001b[A\n",
            " 31%|███▏      | 148/470 [00:03<00:05, 55.42it/s]\u001b[A\n",
            " 33%|███▎      | 154/470 [00:04<00:05, 54.05it/s]\u001b[A\n",
            " 34%|███▍      | 160/470 [00:04<00:05, 54.89it/s]\u001b[A\n",
            " 36%|███▌      | 167/470 [00:04<00:05, 57.44it/s]\u001b[A\n",
            " 37%|███▋      | 173/470 [00:04<00:05, 56.36it/s]\u001b[A\n",
            " 38%|███▊      | 179/470 [00:04<00:05, 51.16it/s]\u001b[A\n",
            " 39%|███▉      | 185/470 [00:04<00:06, 40.82it/s]\u001b[A\n",
            " 40%|████      | 190/470 [00:04<00:06, 42.10it/s]\u001b[A\n",
            " 41%|████▏     | 195/470 [00:04<00:06, 42.84it/s]\u001b[A\n",
            " 43%|████▎     | 201/470 [00:05<00:14, 18.98it/s]\u001b[A\n",
            " 44%|████▎     | 205/470 [00:10<01:36,  2.75it/s]\u001b[A\n",
            " 44%|████▍     | 208/470 [00:12<02:06,  2.06it/s]\u001b[A\n",
            " 45%|████▍     | 210/470 [00:14<02:43,  1.59it/s]\u001b[A\n",
            " 45%|████▌     | 212/470 [00:15<02:43,  1.58it/s]\u001b[A\n",
            " 45%|████▌     | 213/470 [00:16<03:16,  1.31it/s]\u001b[A\n",
            " 46%|████▌     | 214/470 [00:17<03:10,  1.34it/s]\u001b[A\n",
            " 46%|████▌     | 215/470 [00:18<03:04,  1.38it/s]\u001b[A\n",
            " 46%|████▌     | 216/470 [00:18<02:58,  1.42it/s]\u001b[A\n",
            " 46%|████▌     | 217/470 [00:19<02:55,  1.44it/s]\u001b[A\n",
            " 46%|████▋     | 218/470 [00:20<03:29,  1.20it/s]\u001b[A\n",
            " 47%|████▋     | 219/470 [00:21<03:13,  1.29it/s]\u001b[A\n",
            " 47%|████▋     | 220/470 [00:21<03:10,  1.31it/s]\u001b[A\n",
            " 47%|████▋     | 221/470 [00:22<03:01,  1.37it/s]\u001b[A\n",
            " 47%|████▋     | 222/470 [00:23<02:50,  1.46it/s]\u001b[A\n",
            " 47%|████▋     | 223/470 [00:23<02:51,  1.44it/s]\u001b[A\n",
            " 48%|████▊     | 224/470 [00:24<02:46,  1.47it/s]\u001b[A\n",
            " 48%|████▊     | 225/470 [00:25<02:52,  1.42it/s]\u001b[A\n",
            " 48%|████▊     | 226/470 [00:25<02:47,  1.46it/s]\u001b[A\n",
            " 48%|████▊     | 227/470 [00:26<02:43,  1.49it/s]\u001b[A\n",
            " 49%|████▊     | 228/470 [00:27<02:32,  1.58it/s]\u001b[A\n",
            " 49%|████▊     | 229/470 [00:27<02:32,  1.58it/s]\u001b[A\n",
            " 49%|████▉     | 230/470 [00:28<02:32,  1.57it/s]\u001b[A\n",
            " 49%|████▉     | 231/470 [00:28<02:23,  1.66it/s]\u001b[A\n",
            " 49%|████▉     | 232/470 [00:29<02:28,  1.60it/s]\u001b[A\n",
            " 50%|████▉     | 233/470 [00:30<02:31,  1.56it/s]\u001b[A\n",
            " 50%|████▉     | 234/470 [00:30<02:23,  1.65it/s]\u001b[A\n",
            " 50%|█████     | 235/470 [00:31<02:47,  1.41it/s]\u001b[A\n",
            " 50%|█████     | 236/470 [00:32<03:02,  1.28it/s]\u001b[A\n",
            " 50%|█████     | 237/470 [00:33<02:51,  1.36it/s]\u001b[A\n",
            " 51%|█████     | 238/470 [00:33<02:45,  1.40it/s]\u001b[A\n",
            " 51%|█████     | 239/470 [00:34<02:42,  1.42it/s]\u001b[A\n",
            " 51%|█████     | 240/470 [00:35<02:41,  1.43it/s]\u001b[A\n",
            " 51%|█████▏    | 241/470 [00:35<02:34,  1.49it/s]\u001b[A\n",
            " 51%|█████▏    | 242/470 [00:36<02:52,  1.32it/s]\u001b[A\n",
            " 52%|█████▏    | 243/470 [00:37<02:36,  1.45it/s]\u001b[A\n",
            " 52%|█████▏    | 244/470 [00:38<02:32,  1.48it/s]\u001b[A\n",
            " 52%|█████▏    | 245/470 [00:39<02:51,  1.31it/s]\u001b[A\n",
            " 52%|█████▏    | 246/470 [00:39<02:58,  1.26it/s]\u001b[A\n",
            " 53%|█████▎    | 247/470 [00:40<02:51,  1.30it/s]\u001b[A\n",
            " 53%|█████▎    | 248/470 [00:41<02:45,  1.34it/s]\u001b[A\n",
            " 53%|█████▎    | 249/470 [00:41<02:38,  1.39it/s]\u001b[A\n",
            " 53%|█████▎    | 250/470 [00:42<02:36,  1.41it/s]\u001b[A\n",
            " 53%|█████▎    | 251/470 [00:43<02:32,  1.44it/s]\u001b[A\n",
            " 54%|█████▎    | 252/470 [00:43<02:21,  1.54it/s]\u001b[A\n",
            " 54%|█████▍    | 253/470 [00:44<02:22,  1.53it/s]\u001b[A\n",
            " 54%|█████▍    | 254/470 [00:45<02:42,  1.33it/s]\u001b[A\n",
            " 54%|█████▍    | 255/470 [00:46<02:36,  1.37it/s]\u001b[A\n",
            " 54%|█████▍    | 256/470 [00:46<02:31,  1.41it/s]\u001b[A\n",
            " 55%|█████▍    | 257/470 [00:47<02:19,  1.53it/s]\u001b[A\n",
            " 55%|█████▍    | 258/470 [00:48<02:19,  1.52it/s]\u001b[A\n",
            " 55%|█████▌    | 259/470 [00:48<02:10,  1.62it/s]\u001b[A\n",
            " 55%|█████▌    | 260/470 [00:49<02:05,  1.67it/s]\u001b[A\n",
            " 56%|█████▌    | 261/470 [00:49<02:06,  1.65it/s]\u001b[A\n",
            " 56%|█████▌    | 262/470 [00:50<02:00,  1.73it/s]\u001b[A\n",
            " 56%|█████▌    | 263/470 [00:50<02:01,  1.71it/s]\u001b[A\n",
            " 56%|█████▌    | 264/470 [00:51<02:02,  1.68it/s]\u001b[A\n",
            " 56%|█████▋    | 265/470 [00:52<02:04,  1.64it/s]\u001b[A\n",
            " 57%|█████▋    | 266/470 [00:52<01:58,  1.73it/s]\u001b[A\n",
            " 57%|█████▋    | 267/470 [00:53<02:05,  1.61it/s]\u001b[A\n",
            " 57%|█████▋    | 268/470 [00:53<02:07,  1.59it/s]\u001b[A\n",
            " 57%|█████▋    | 269/470 [00:54<02:05,  1.60it/s]\u001b[A\n",
            " 57%|█████▋    | 270/470 [00:55<02:08,  1.56it/s]\u001b[A\n",
            " 58%|█████▊    | 271/470 [00:55<02:06,  1.57it/s]\u001b[A\n",
            " 58%|█████▊    | 272/470 [00:56<02:04,  1.59it/s]\u001b[A\n",
            " 58%|█████▊    | 273/470 [00:57<02:08,  1.54it/s]\u001b[A\n",
            " 58%|█████▊    | 274/470 [00:57<02:08,  1.52it/s]\u001b[A\n",
            " 59%|█████▊    | 275/470 [00:58<02:27,  1.32it/s]\u001b[A\n",
            " 59%|█████▊    | 276/470 [00:59<02:20,  1.38it/s]\u001b[A\n",
            " 59%|█████▉    | 277/470 [01:00<02:21,  1.37it/s]\u001b[A\n",
            " 59%|█████▉    | 278/470 [01:00<02:07,  1.51it/s]\u001b[A\n",
            " 59%|█████▉    | 279/470 [01:01<02:07,  1.50it/s]\u001b[A\n",
            " 60%|█████▉    | 280/470 [01:02<02:23,  1.33it/s]\u001b[A\n",
            " 60%|█████▉    | 281/470 [01:03<02:14,  1.41it/s]\u001b[A\n",
            " 60%|██████    | 282/470 [01:03<02:12,  1.41it/s]\u001b[A\n",
            " 60%|██████    | 283/470 [01:04<02:15,  1.39it/s]\u001b[A\n",
            " 60%|██████    | 284/470 [01:04<02:02,  1.51it/s]\u001b[A\n",
            " 61%|██████    | 285/470 [01:05<02:12,  1.40it/s]\u001b[A\n",
            " 61%|██████    | 286/470 [01:06<02:25,  1.27it/s]\u001b[A\n",
            " 61%|██████    | 287/470 [01:07<02:21,  1.30it/s]\u001b[A\n",
            " 61%|██████▏   | 288/470 [01:08<02:16,  1.34it/s]\u001b[A\n",
            " 61%|██████▏   | 289/470 [01:08<01:53,  1.60it/s]\u001b[A\n",
            " 62%|██████▏   | 290/470 [01:09<01:48,  1.67it/s]\u001b[A\n",
            " 62%|██████▏   | 291/470 [01:09<01:50,  1.62it/s]\u001b[A\n",
            " 62%|██████▏   | 292/470 [01:10<01:52,  1.58it/s]\u001b[A\n",
            " 62%|██████▏   | 293/470 [01:11<01:54,  1.55it/s]\u001b[A\n",
            " 63%|██████▎   | 294/470 [01:11<01:39,  1.77it/s]\u001b[A\n",
            " 63%|██████▎   | 295/470 [01:12<01:37,  1.79it/s]\u001b[A\n",
            " 63%|██████▎   | 296/470 [01:12<01:32,  1.87it/s]\u001b[A\n",
            " 63%|██████▎   | 297/470 [01:13<01:42,  1.69it/s]\u001b[A\n",
            " 63%|██████▎   | 298/470 [01:13<01:44,  1.65it/s]\u001b[A\n",
            " 64%|██████▎   | 299/470 [01:14<01:46,  1.60it/s]\u001b[A\n",
            " 64%|██████▍   | 300/470 [01:15<01:47,  1.59it/s]\u001b[A\n",
            " 64%|██████▍   | 301/470 [01:15<01:47,  1.58it/s]\u001b[A\n",
            " 64%|██████▍   | 302/470 [01:16<01:53,  1.48it/s]\u001b[A\n",
            " 64%|██████▍   | 303/470 [01:17<01:55,  1.44it/s]\u001b[A\n",
            " 65%|██████▍   | 304/470 [01:17<01:45,  1.57it/s]\u001b[A\n",
            " 65%|██████▍   | 305/470 [01:18<01:51,  1.47it/s]\u001b[A\n",
            " 65%|██████▌   | 306/470 [01:19<01:40,  1.63it/s]\u001b[A\n",
            " 65%|██████▌   | 307/470 [01:19<01:38,  1.66it/s]\u001b[A\n",
            " 66%|██████▌   | 308/470 [01:20<01:57,  1.38it/s]\u001b[A\n",
            " 66%|██████▌   | 309/470 [01:21<01:53,  1.41it/s]\u001b[A\n",
            " 66%|██████▌   | 310/470 [01:21<01:51,  1.43it/s]\u001b[A\n",
            " 66%|██████▌   | 311/470 [01:22<01:46,  1.49it/s]\u001b[A\n",
            " 66%|██████▋   | 312/470 [01:23<01:42,  1.54it/s]\u001b[A\n",
            " 67%|██████▋   | 313/470 [01:23<01:42,  1.53it/s]\u001b[A\n",
            " 67%|██████▋   | 314/470 [01:24<01:57,  1.32it/s]\u001b[A\n",
            " 67%|██████▋   | 315/470 [01:25<01:53,  1.37it/s]\u001b[A\n",
            " 67%|██████▋   | 316/470 [01:26<01:49,  1.40it/s]\u001b[A\n",
            " 67%|██████▋   | 317/470 [01:26<01:40,  1.52it/s]\u001b[A\n",
            " 68%|██████▊   | 318/470 [01:27<01:39,  1.53it/s]\u001b[A\n",
            " 68%|██████▊   | 319/470 [01:28<01:37,  1.55it/s]\u001b[A\n",
            " 68%|██████▊   | 320/470 [01:28<01:33,  1.61it/s]\u001b[A\n",
            " 68%|██████▊   | 321/470 [01:29<01:35,  1.56it/s]\u001b[A\n",
            " 69%|██████▊   | 322/470 [01:29<01:36,  1.54it/s]\u001b[A\n",
            " 69%|██████▊   | 323/470 [01:30<01:42,  1.43it/s]\u001b[A\n",
            " 69%|██████▉   | 324/470 [01:31<01:42,  1.43it/s]\u001b[A\n",
            " 69%|██████▉   | 325/470 [01:32<01:51,  1.30it/s]\u001b[A\n",
            " 69%|██████▉   | 326/470 [01:33<02:02,  1.18it/s]\u001b[A\n",
            " 70%|██████▉   | 327/470 [01:34<01:51,  1.28it/s]\u001b[A\n",
            " 70%|██████▉   | 328/470 [01:35<02:04,  1.14it/s]\u001b[A\n",
            " 70%|███████   | 329/470 [01:35<01:55,  1.22it/s]\u001b[A\n",
            " 70%|███████   | 330/470 [01:36<01:49,  1.28it/s]\u001b[A\n",
            " 70%|███████   | 331/470 [01:37<01:57,  1.18it/s]\u001b[A\n",
            " 71%|███████   | 332/470 [01:38<01:47,  1.29it/s]\u001b[A\n",
            " 71%|███████   | 333/470 [01:38<01:40,  1.37it/s]\u001b[A\n",
            " 71%|███████   | 334/470 [01:39<01:35,  1.42it/s]\u001b[A\n",
            " 71%|███████▏  | 335/470 [01:40<01:32,  1.46it/s]\u001b[A\n",
            " 71%|███████▏  | 336/470 [01:40<01:32,  1.44it/s]\u001b[A\n",
            " 72%|███████▏  | 337/470 [01:41<01:26,  1.54it/s]\u001b[A\n",
            " 72%|███████▏  | 338/470 [01:41<01:26,  1.53it/s]\u001b[A\n",
            " 72%|███████▏  | 339/470 [01:42<01:24,  1.54it/s]\u001b[A\n",
            " 72%|███████▏  | 340/470 [01:43<01:26,  1.50it/s]\u001b[A\n",
            " 73%|███████▎  | 341/470 [01:43<01:21,  1.59it/s]\u001b[A\n",
            " 73%|███████▎  | 342/470 [01:44<01:16,  1.67it/s]\u001b[A\n",
            " 73%|███████▎  | 343/470 [01:44<01:16,  1.66it/s]\u001b[A\n",
            " 73%|███████▎  | 344/470 [01:45<01:17,  1.64it/s]\u001b[A\n",
            " 73%|███████▎  | 345/470 [01:46<01:19,  1.56it/s]\u001b[A\n",
            " 74%|███████▎  | 346/470 [01:46<01:13,  1.70it/s]\u001b[A\n",
            " 74%|███████▍  | 347/470 [01:47<01:15,  1.62it/s]\u001b[A\n",
            " 74%|███████▍  | 348/470 [01:48<01:16,  1.60it/s]\u001b[A\n",
            " 74%|███████▍  | 349/470 [01:48<01:13,  1.65it/s]\u001b[A\n",
            " 74%|███████▍  | 350/470 [01:49<01:15,  1.58it/s]\u001b[A\n",
            " 75%|███████▍  | 351/470 [01:49<01:13,  1.62it/s]\u001b[A\n",
            " 75%|███████▍  | 352/470 [01:50<01:11,  1.66it/s]\u001b[A\n",
            " 75%|███████▌  | 353/470 [01:51<01:18,  1.50it/s]\u001b[A\n",
            " 75%|███████▌  | 354/470 [01:51<01:14,  1.57it/s]\u001b[A\n",
            " 76%|███████▌  | 355/470 [01:52<01:09,  1.65it/s]\u001b[A\n",
            " 76%|███████▌  | 356/470 [01:53<01:11,  1.60it/s]\u001b[A\n",
            " 76%|███████▌  | 357/470 [01:54<01:21,  1.39it/s]\u001b[A\n",
            " 76%|███████▌  | 358/470 [01:55<01:28,  1.27it/s]\u001b[A\n",
            " 76%|███████▋  | 359/470 [01:55<01:22,  1.34it/s]\u001b[A\n",
            " 77%|███████▋  | 360/470 [01:56<01:20,  1.37it/s]\u001b[A\n",
            " 77%|███████▋  | 361/470 [01:56<01:15,  1.43it/s]\u001b[A\n",
            " 77%|███████▋  | 362/470 [01:57<01:10,  1.54it/s]\u001b[A\n",
            " 77%|███████▋  | 363/470 [01:58<01:09,  1.54it/s]\u001b[A\n",
            " 77%|███████▋  | 364/470 [01:58<01:09,  1.53it/s]\u001b[A\n",
            " 78%|███████▊  | 365/470 [01:59<01:07,  1.55it/s]\u001b[A\n",
            " 78%|███████▊  | 366/470 [02:00<01:08,  1.51it/s]\u001b[A\n",
            " 78%|███████▊  | 367/470 [02:00<01:08,  1.51it/s]\u001b[A\n",
            " 78%|███████▊  | 368/470 [02:01<01:06,  1.54it/s]\u001b[A\n",
            " 79%|███████▊  | 369/470 [02:02<01:06,  1.53it/s]\u001b[A\n",
            " 79%|███████▊  | 370/470 [02:02<01:02,  1.60it/s]\u001b[A\n",
            " 79%|███████▉  | 371/470 [02:03<01:03,  1.56it/s]\u001b[A\n",
            " 79%|███████▉  | 372/470 [02:04<01:06,  1.47it/s]\u001b[A\n",
            " 79%|███████▉  | 373/470 [02:04<01:01,  1.57it/s]\u001b[A\n",
            " 80%|███████▉  | 374/470 [02:05<00:58,  1.65it/s]\u001b[A\n",
            " 80%|███████▉  | 375/470 [02:05<00:59,  1.61it/s]\u001b[A\n",
            " 80%|████████  | 376/470 [02:06<01:01,  1.53it/s]\u001b[A\n",
            " 80%|████████  | 377/470 [02:07<01:01,  1.51it/s]\u001b[A\n",
            " 80%|████████  | 378/470 [02:07<00:58,  1.58it/s]\u001b[A\n",
            " 81%|████████  | 379/470 [02:08<00:55,  1.65it/s]\u001b[A\n",
            " 81%|████████  | 380/470 [02:08<00:52,  1.72it/s]\u001b[A\n",
            " 81%|████████  | 381/470 [02:09<00:50,  1.76it/s]\u001b[A\n",
            " 81%|████████▏ | 382/470 [02:10<00:53,  1.64it/s]\u001b[A\n",
            " 81%|████████▏ | 383/470 [02:10<00:50,  1.72it/s]\u001b[A\n",
            " 82%|████████▏ | 384/470 [02:11<00:53,  1.62it/s]\u001b[A\n",
            " 82%|████████▏ | 385/470 [02:11<00:53,  1.59it/s]\u001b[A\n",
            " 82%|████████▏ | 386/470 [02:12<00:53,  1.58it/s]\u001b[A\n",
            " 82%|████████▏ | 387/470 [02:13<00:52,  1.58it/s]\u001b[A\n",
            " 83%|████████▎ | 388/470 [02:13<00:52,  1.57it/s]\u001b[A\n",
            " 83%|████████▎ | 389/470 [02:14<00:52,  1.54it/s]\u001b[A\n",
            " 83%|████████▎ | 390/470 [02:15<00:54,  1.47it/s]\u001b[A\n",
            " 83%|████████▎ | 391/470 [02:15<00:53,  1.48it/s]\u001b[A\n",
            " 83%|████████▎ | 392/470 [02:16<00:53,  1.47it/s]\u001b[A\n",
            " 84%|████████▎ | 393/470 [02:17<00:51,  1.51it/s]\u001b[A\n",
            " 84%|████████▍ | 394/470 [02:17<00:50,  1.52it/s]\u001b[A\n",
            " 84%|████████▍ | 395/470 [02:18<00:50,  1.47it/s]\u001b[A\n",
            " 84%|████████▍ | 396/470 [02:19<00:56,  1.30it/s]\u001b[A\n",
            " 84%|████████▍ | 397/470 [02:20<01:01,  1.19it/s]\u001b[A\n",
            " 85%|████████▍ | 398/470 [02:21<01:00,  1.18it/s]\u001b[A\n",
            " 85%|████████▍ | 399/470 [02:22<01:02,  1.14it/s]\u001b[A\n",
            " 85%|████████▌ | 400/470 [02:23<00:57,  1.23it/s]\u001b[A\n",
            " 85%|████████▌ | 401/470 [02:23<00:49,  1.39it/s]\u001b[A\n",
            " 86%|████████▌ | 402/470 [02:24<00:51,  1.33it/s]\u001b[A\n",
            " 86%|████████▌ | 403/470 [02:25<00:49,  1.36it/s]\u001b[A\n",
            " 86%|████████▌ | 404/470 [02:25<00:43,  1.51it/s]\u001b[A\n",
            " 86%|████████▌ | 405/470 [02:26<00:42,  1.53it/s]\u001b[A\n",
            " 86%|████████▋ | 406/470 [02:27<00:45,  1.40it/s]\u001b[A\n",
            " 87%|████████▋ | 407/470 [02:28<00:48,  1.29it/s]\u001b[A\n",
            " 87%|████████▋ | 408/470 [02:29<00:51,  1.21it/s]\u001b[A\n",
            " 87%|████████▋ | 409/470 [02:29<00:46,  1.32it/s]\u001b[A\n",
            " 87%|████████▋ | 410/470 [02:30<00:42,  1.40it/s]\u001b[A\n",
            " 87%|████████▋ | 411/470 [02:30<00:41,  1.42it/s]\u001b[A\n",
            " 88%|████████▊ | 412/470 [02:31<00:39,  1.47it/s]\u001b[A\n",
            " 88%|████████▊ | 413/470 [02:32<00:37,  1.50it/s]\u001b[A\n",
            " 88%|████████▊ | 414/470 [02:32<00:37,  1.48it/s]\u001b[A\n",
            " 88%|████████▊ | 415/470 [02:33<00:41,  1.32it/s]\u001b[A\n",
            " 89%|████████▊ | 416/470 [02:34<00:43,  1.25it/s]\u001b[A\n",
            " 89%|████████▊ | 417/470 [02:35<00:43,  1.21it/s]\u001b[A\n",
            " 89%|████████▉ | 418/470 [02:36<00:42,  1.22it/s]\u001b[A\n",
            " 89%|████████▉ | 419/470 [02:37<00:44,  1.14it/s]\u001b[A\n",
            " 89%|████████▉ | 420/470 [02:38<00:45,  1.10it/s]\u001b[A\n",
            " 90%|████████▉ | 421/470 [02:39<00:43,  1.12it/s]\u001b[A\n",
            " 90%|████████▉ | 422/470 [02:40<00:41,  1.14it/s]\u001b[A\n",
            " 90%|█████████ | 423/470 [02:40<00:38,  1.22it/s]\u001b[A\n",
            " 90%|█████████ | 424/470 [02:41<00:32,  1.41it/s]\u001b[A\n",
            " 90%|█████████ | 425/470 [02:41<00:29,  1.53it/s]\u001b[A\n",
            " 91%|█████████ | 426/470 [02:42<00:24,  1.79it/s]\u001b[A\n",
            " 91%|█████████ | 427/470 [02:42<00:25,  1.66it/s]\u001b[A\n",
            " 91%|█████████ | 428/470 [02:43<00:26,  1.58it/s]\u001b[A\n",
            " 91%|█████████▏| 429/470 [02:44<00:26,  1.53it/s]\u001b[A\n",
            " 91%|█████████▏| 430/470 [02:44<00:24,  1.61it/s]\u001b[A\n",
            " 92%|█████████▏| 431/470 [02:45<00:25,  1.51it/s]\u001b[A\n",
            " 92%|█████████▏| 432/470 [02:46<00:25,  1.52it/s]\u001b[A\n",
            " 92%|█████████▏| 433/470 [02:46<00:24,  1.48it/s]\u001b[A\n",
            " 92%|█████████▏| 434/470 [02:47<00:23,  1.55it/s]\u001b[A\n",
            " 93%|█████████▎| 435/470 [02:48<00:23,  1.52it/s]\u001b[A\n",
            " 93%|█████████▎| 436/470 [02:48<00:21,  1.62it/s]\u001b[A\n",
            " 93%|█████████▎| 437/470 [02:49<00:20,  1.60it/s]\u001b[A\n",
            " 93%|█████████▎| 438/470 [02:49<00:20,  1.54it/s]\u001b[A\n",
            " 93%|█████████▎| 439/470 [02:50<00:20,  1.54it/s]\u001b[A\n",
            " 94%|█████████▎| 440/470 [02:51<00:19,  1.56it/s]\u001b[A\n",
            " 94%|█████████▍| 441/470 [02:51<00:18,  1.57it/s]\u001b[A\n",
            " 94%|█████████▍| 442/470 [02:52<00:17,  1.58it/s]\u001b[A\n",
            " 94%|█████████▍| 443/470 [02:53<00:17,  1.54it/s]\u001b[A\n",
            " 94%|█████████▍| 444/470 [02:53<00:15,  1.66it/s]\u001b[A\n",
            " 95%|█████████▍| 445/470 [02:54<00:15,  1.64it/s]\u001b[A\n",
            " 95%|█████████▍| 446/470 [02:54<00:15,  1.58it/s]\u001b[A\n",
            " 95%|█████████▌| 447/470 [02:55<00:13,  1.67it/s]\u001b[A\n",
            " 95%|█████████▌| 448/470 [02:56<00:12,  1.73it/s]\u001b[A\n",
            " 96%|█████████▌| 449/470 [02:56<00:11,  1.78it/s]\u001b[A\n",
            " 96%|█████████▌| 450/470 [02:57<00:10,  1.84it/s]\u001b[A\n",
            " 96%|█████████▌| 451/470 [02:57<00:11,  1.67it/s]\u001b[A\n",
            " 96%|█████████▌| 452/470 [02:58<00:10,  1.70it/s]\u001b[A\n",
            " 96%|█████████▋| 453/470 [02:58<00:09,  1.86it/s]\u001b[A\n",
            " 97%|█████████▋| 454/470 [02:59<00:09,  1.75it/s]\u001b[A\n",
            " 97%|█████████▋| 455/470 [02:59<00:08,  1.80it/s]\u001b[A\n",
            " 97%|█████████▋| 456/470 [03:00<00:08,  1.68it/s]\u001b[A\n",
            " 97%|█████████▋| 457/470 [03:01<00:07,  1.63it/s]\u001b[A\n",
            " 97%|█████████▋| 458/470 [03:01<00:07,  1.58it/s]\u001b[A\n",
            " 98%|█████████▊| 459/470 [03:02<00:07,  1.55it/s]\u001b[A\n",
            " 98%|█████████▊| 460/470 [03:03<00:06,  1.52it/s]\u001b[A\n",
            " 98%|█████████▊| 461/470 [03:04<00:06,  1.49it/s]\u001b[A\n",
            " 98%|█████████▊| 462/470 [03:04<00:05,  1.57it/s]\u001b[A\n",
            " 99%|█████████▊| 463/470 [03:05<00:04,  1.54it/s]\u001b[A\n",
            " 99%|█████████▊| 464/470 [03:05<00:03,  1.55it/s]\u001b[A\n",
            " 99%|█████████▉| 465/470 [03:06<00:03,  1.51it/s]\u001b[A\n",
            " 99%|█████████▉| 466/470 [03:07<00:02,  1.56it/s]\u001b[A\n",
            " 99%|█████████▉| 467/470 [03:07<00:01,  1.52it/s]\u001b[A\n",
            "100%|█████████▉| 468/470 [03:08<00:01,  1.51it/s]\u001b[A\n",
            "100%|█████████▉| 469/470 [03:09<00:00,  1.49it/s]\u001b[A\n",
            "100%|██████████| 470/470 [03:09<00:00,  1.49it/s]\u001b[A\n",
            "\u001b[A\n",
            "  0%|          | 0/29 [00:00<?, ?it/s]\u001b[A\n",
            " 28%|██▊       | 8/29 [00:00<00:00, 73.27it/s]\u001b[A"
          ],
          "name": "stderr"
        },
        {
          "output_type": "stream",
          "text": [
            "\n",
            "\n",
            "Imagenes Categoria: 4\n",
            "500\n",
            "\n"
          ],
          "name": "stdout"
        },
        {
          "output_type": "stream",
          "text": [
            "\n",
            " 59%|█████▊    | 17/29 [00:00<00:00, 75.92it/s]\u001b[A\n",
            " 97%|█████████▋| 28/29 [00:00<00:00, 82.66it/s]\u001b[A\n",
            "100%|██████████| 29/29 [00:00<00:00, 83.56it/s]\u001b[A"
          ],
          "name": "stderr"
        },
        {
          "output_type": "stream",
          "text": [
            "\n",
            "\n",
            "Imagenes Categoria: 5\n",
            "500\n",
            "\n",
            "\n",
            "Función ejecutada: create_training_data\n",
            "Tiempo de ejecución para algoritmo: 200.98614764213562\n",
            "Tamaño base de datos pickle:\n",
            "3002\n",
            "Función ejecutada: create_pickle_database\n",
            "Tiempo de ejecución para algoritmo: 207.91188645362854\n"
          ],
          "name": "stdout"
        },
        {
          "output_type": "execute_result",
          "data": {
            "text/plain": [
              "True"
            ]
          },
          "metadata": {
            "tags": []
          },
          "execution_count": 14
        }
      ]
    },
    {
      "cell_type": "markdown",
      "metadata": {
        "id": "lPM495AIw5e-",
        "colab_type": "text"
      },
      "source": [
        "#### 3. Base de datos manual balanceada, todas las categorias, tamaño base de datos final nivel alto"
      ]
    },
    {
      "cell_type": "code",
      "metadata": {
        "id": "E3K2t-7Jz5_m",
        "colab_type": "code",
        "outputId": "15260811-fdea-4c00-b544-31930be25fe8",
        "colab": {
          "base_uri": "https://localhost:8080/",
          "height": 1000
        }
      },
      "source": [
        "create_pickle_database(BASE_FOLDER_manual, Complete_cat, img_size, pick_name_high_bal, Aug_level_0, high_bal)"
      ],
      "execution_count": 0,
      "outputs": [
        {
          "output_type": "stream",
          "text": [
            "\n",
            "  0%|          | 0/62 [00:00<?, ?it/s]\u001b[A\n",
            "  6%|▋         | 4/62 [00:00<00:01, 33.70it/s]\u001b[A\n",
            " 19%|█▉        | 12/62 [00:00<00:01, 32.99it/s]\u001b[A\n",
            " 31%|███       | 19/62 [00:00<00:01, 39.00it/s]\u001b[A\n",
            " 47%|████▋     | 29/62 [00:00<00:00, 47.57it/s]\u001b[A\n",
            " 61%|██████▏   | 38/62 [00:00<00:00, 55.40it/s]\u001b[A\n",
            " 79%|███████▉  | 49/62 [00:00<00:00, 64.21it/s]\u001b[A\n",
            " 92%|█████████▏| 57/62 [00:00<00:00, 64.56it/s]\u001b[A\n",
            "100%|██████████| 62/62 [00:01<00:00, 60.94it/s]\u001b[A\n",
            "  0%|          | 0/135 [00:00<?, ?it/s]\u001b[A\n",
            "  1%|          | 1/135 [00:00<00:15,  8.55it/s]\u001b[A"
          ],
          "name": "stderr"
        },
        {
          "output_type": "stream",
          "text": [
            "\n",
            "\n",
            "Imagenes Categoria: 0\n",
            "1000\n",
            "\n"
          ],
          "name": "stdout"
        },
        {
          "output_type": "stream",
          "text": [
            "\n",
            "  1%|▏         | 2/135 [00:00<00:15,  8.41it/s]\u001b[A\n",
            "  3%|▎         | 4/135 [00:00<00:14,  9.03it/s]\u001b[A\n",
            " 11%|█         | 15/135 [00:00<00:09, 12.43it/s]\u001b[A\n",
            " 19%|█▊        | 25/135 [00:00<00:06, 16.84it/s]\u001b[A\n",
            " 24%|██▎       | 32/135 [00:00<00:04, 21.38it/s]\u001b[A\n",
            " 29%|██▉       | 39/135 [00:00<00:03, 26.69it/s]\u001b[A\n",
            " 36%|███▌      | 48/135 [00:00<00:02, 33.56it/s]\u001b[A\n",
            " 41%|████      | 55/135 [00:01<00:02, 36.43it/s]\u001b[A\n",
            " 45%|████▌     | 61/135 [00:01<00:01, 41.02it/s]\u001b[A\n",
            " 51%|█████     | 69/135 [00:01<00:01, 47.21it/s]\u001b[A\n",
            " 56%|█████▋    | 76/135 [00:01<00:01, 51.94it/s]\u001b[A\n",
            " 61%|██████▏   | 83/135 [00:01<00:00, 55.20it/s]\u001b[A\n",
            " 67%|██████▋   | 90/135 [00:01<00:00, 54.38it/s]\u001b[A\n",
            " 72%|███████▏  | 97/135 [00:01<00:00, 49.24it/s]\u001b[A\n",
            " 77%|███████▋  | 104/135 [00:01<00:00, 53.46it/s]\u001b[A\n",
            " 81%|████████▏ | 110/135 [00:02<00:00, 49.03it/s]\u001b[A\n",
            " 86%|████████▌ | 116/135 [00:02<00:00, 49.71it/s]\u001b[A\n",
            " 90%|█████████ | 122/135 [00:02<00:00, 49.47it/s]\u001b[A\n",
            " 96%|█████████▌| 129/135 [00:02<00:00, 53.90it/s]\u001b[A\n",
            "100%|██████████| 135/135 [00:02<00:00, 53.22it/s]\u001b[A\n",
            "  0%|          | 0/195 [00:00<?, ?it/s]\u001b[A\n",
            "  2%|▏         | 4/195 [00:00<00:04, 38.37it/s]\u001b[A"
          ],
          "name": "stderr"
        },
        {
          "output_type": "stream",
          "text": [
            "\n",
            "\n",
            "Imagenes Categoria: 1\n",
            "1000\n",
            "\n"
          ],
          "name": "stdout"
        },
        {
          "output_type": "stream",
          "text": [
            "\n",
            "  5%|▌         | 10/195 [00:00<00:04, 42.33it/s]\u001b[A\n",
            "  9%|▊         | 17/195 [00:00<00:03, 46.72it/s]\u001b[A\n",
            " 11%|█▏        | 22/195 [00:00<00:03, 47.46it/s]\u001b[A\n",
            " 15%|█▍        | 29/195 [00:00<00:03, 51.68it/s]\u001b[A\n",
            " 19%|█▉        | 37/195 [00:00<00:02, 57.60it/s]\u001b[A\n",
            " 22%|██▏       | 43/195 [00:00<00:02, 57.31it/s]\u001b[A\n",
            " 26%|██▌       | 51/195 [00:00<00:02, 62.14it/s]\u001b[A\n",
            " 30%|███       | 59/195 [00:00<00:02, 64.75it/s]\u001b[A\n",
            " 34%|███▍      | 67/195 [00:01<00:01, 67.91it/s]\u001b[A\n",
            " 39%|███▉      | 77/195 [00:01<00:01, 74.69it/s]\u001b[A\n",
            " 45%|████▍     | 87/195 [00:01<00:01, 78.56it/s]\u001b[A\n",
            " 49%|████▉     | 96/195 [00:01<00:01, 71.84it/s]\u001b[A\n",
            " 53%|█████▎    | 104/195 [00:01<00:01, 73.20it/s]\u001b[A\n",
            " 57%|█████▋    | 112/195 [00:01<00:01, 73.13it/s]\u001b[A\n",
            " 63%|██████▎   | 123/195 [00:01<00:00, 79.98it/s]\u001b[A\n",
            " 68%|██████▊   | 132/195 [00:01<00:00, 79.33it/s]\u001b[A\n",
            " 72%|███████▏  | 141/195 [00:02<00:00, 74.45it/s]\u001b[A\n",
            " 76%|███████▋  | 149/195 [00:02<00:00, 68.01it/s]\u001b[A\n",
            " 81%|████████  | 157/195 [00:02<00:00, 68.16it/s]\u001b[A\n",
            " 86%|████████▌ | 167/195 [00:02<00:00, 74.45it/s]\u001b[A\n",
            " 90%|█████████ | 176/195 [00:02<00:00, 76.11it/s]\u001b[A\n",
            " 94%|█████████▍| 184/195 [00:02<00:00, 77.10it/s]\u001b[A\n",
            " 98%|█████████▊| 192/195 [00:02<00:00, 74.37it/s]\u001b[A\n",
            "100%|██████████| 195/195 [00:02<00:00, 70.75it/s]\u001b[A\n",
            "  0%|          | 0/161 [00:00<?, ?it/s]\u001b[A\n",
            "  1%|          | 1/161 [00:00<00:18,  8.68it/s]\u001b[A"
          ],
          "name": "stderr"
        },
        {
          "output_type": "stream",
          "text": [
            "\n",
            "\n",
            "Imagenes Categoria: 2\n",
            "1000\n",
            "\n"
          ],
          "name": "stdout"
        },
        {
          "output_type": "stream",
          "text": [
            "\n",
            "  1%|          | 2/161 [00:00<00:18,  8.51it/s]\u001b[A\n",
            "  2%|▏         | 3/161 [00:00<00:21,  7.35it/s]\u001b[A\n",
            "  2%|▏         | 4/161 [00:00<00:25,  6.07it/s]\u001b[A\n",
            "  4%|▎         | 6/161 [00:00<00:20,  7.59it/s]\u001b[A\n",
            "  7%|▋         | 12/161 [00:00<00:14, 10.22it/s]\u001b[A\n",
            " 12%|█▏        | 19/161 [00:00<00:10, 13.69it/s]\u001b[A\n",
            " 16%|█▌        | 26/161 [00:01<00:07, 17.92it/s]\u001b[A\n",
            " 22%|██▏       | 35/161 [00:01<00:05, 23.36it/s]\u001b[A\n",
            " 25%|██▌       | 41/161 [00:01<00:04, 26.46it/s]\u001b[A\n",
            " 30%|██▉       | 48/161 [00:01<00:03, 31.97it/s]\u001b[A\n",
            " 34%|███▍      | 55/161 [00:01<00:02, 37.78it/s]\u001b[A\n",
            " 39%|███▉      | 63/161 [00:01<00:02, 44.30it/s]\u001b[A\n",
            " 43%|████▎     | 70/161 [00:01<00:01, 48.86it/s]\u001b[A\n",
            " 48%|████▊     | 77/161 [00:01<00:01, 49.58it/s]\u001b[A\n",
            " 52%|█████▏    | 84/161 [00:02<00:01, 54.09it/s]\u001b[A\n",
            " 57%|█████▋    | 91/161 [00:02<00:01, 56.96it/s]\u001b[A\n",
            " 61%|██████    | 98/161 [00:02<00:01, 55.89it/s]\u001b[A\n",
            " 65%|██████▌   | 105/161 [00:02<00:00, 58.18it/s]\u001b[A\n",
            " 70%|██████▉   | 112/161 [00:02<00:00, 57.29it/s]\u001b[A\n",
            " 74%|███████▍  | 119/161 [00:02<00:00, 59.86it/s]\u001b[A\n",
            " 78%|███████▊  | 126/161 [00:02<00:00, 56.36it/s]\u001b[A\n",
            " 83%|████████▎ | 133/161 [00:02<00:00, 59.41it/s]\u001b[A\n",
            " 87%|████████▋ | 140/161 [00:02<00:00, 59.68it/s]\u001b[A\n",
            " 91%|█████████▏| 147/161 [00:03<00:00, 60.52it/s]\u001b[A\n",
            " 96%|█████████▌| 154/161 [00:03<00:00, 62.01it/s]\u001b[A\n",
            "100%|██████████| 161/161 [00:03<00:00, 59.23it/s]\u001b[A\n",
            "\u001b[A\n",
            "  0%|          | 0/470 [00:00<?, ?it/s]\u001b[A"
          ],
          "name": "stderr"
        },
        {
          "output_type": "stream",
          "text": [
            "\n",
            "\n",
            "Imagenes Categoria: 3\n",
            "1000\n",
            "\n"
          ],
          "name": "stdout"
        },
        {
          "output_type": "stream",
          "text": [
            "\n",
            "  0%|          | 2/470 [00:00<01:26,  5.44it/s]\u001b[A\n",
            "  1%|          | 3/470 [00:00<01:36,  4.86it/s]\u001b[A\n",
            "  1%|          | 4/470 [00:00<01:37,  4.79it/s]\u001b[A\n",
            "  1%|▏         | 6/470 [00:00<01:15,  6.13it/s]\u001b[A\n",
            "  2%|▏         | 8/470 [00:01<01:02,  7.41it/s]\u001b[A\n",
            "  2%|▏         | 10/470 [00:01<00:58,  7.82it/s]\u001b[A\n",
            "  3%|▎         | 12/470 [00:01<00:59,  7.65it/s]\u001b[A\n",
            "  4%|▍         | 18/470 [00:01<00:43, 10.28it/s]\u001b[A\n",
            "  5%|▌         | 24/470 [00:01<00:32, 13.53it/s]\u001b[A\n",
            "  6%|▌         | 29/470 [00:01<00:25, 17.25it/s]\u001b[A\n",
            "  7%|▋         | 35/470 [00:02<00:20, 21.45it/s]\u001b[A\n",
            "  9%|▊         | 40/470 [00:02<00:16, 25.65it/s]\u001b[A\n",
            " 10%|▉         | 45/470 [00:02<00:14, 30.02it/s]\u001b[A\n",
            " 11%|█         | 51/470 [00:02<00:12, 34.57it/s]\u001b[A\n",
            " 12%|█▏        | 57/470 [00:02<00:10, 38.39it/s]\u001b[A\n",
            " 13%|█▎        | 63/470 [00:02<00:09, 41.93it/s]\u001b[A\n",
            " 15%|█▍        | 69/470 [00:02<00:08, 44.93it/s]\u001b[A\n",
            " 16%|█▌        | 75/470 [00:02<00:08, 46.28it/s]\u001b[A\n",
            " 17%|█▋        | 81/470 [00:02<00:08, 47.78it/s]\u001b[A\n",
            " 19%|█▊        | 87/470 [00:03<00:07, 48.18it/s]\u001b[A\n",
            " 20%|█▉        | 93/470 [00:03<00:07, 48.48it/s]\u001b[A\n",
            " 21%|██        | 99/470 [00:03<00:07, 49.31it/s]\u001b[A\n",
            " 22%|██▏       | 105/470 [00:03<00:07, 48.57it/s]\u001b[A\n",
            " 24%|██▎       | 111/470 [00:03<00:07, 49.87it/s]\u001b[A\n",
            " 25%|██▍       | 117/470 [00:03<00:07, 49.52it/s]\u001b[A\n",
            " 26%|██▌       | 122/470 [00:03<00:07, 49.23it/s]\u001b[A\n",
            " 27%|██▋       | 127/470 [00:03<00:07, 45.13it/s]\u001b[A\n",
            " 28%|██▊       | 132/470 [00:04<00:07, 43.84it/s]\u001b[A\n",
            " 29%|██▉       | 137/470 [00:04<00:08, 41.26it/s]\u001b[A\n",
            " 30%|███       | 142/470 [00:04<00:07, 42.27it/s]\u001b[A\n",
            " 31%|███▏      | 147/470 [00:04<00:07, 42.98it/s]\u001b[A\n",
            " 32%|███▏      | 152/470 [00:04<00:07, 43.68it/s]\u001b[A\n",
            " 33%|███▎      | 157/470 [00:04<00:07, 42.70it/s]\u001b[A\n",
            " 35%|███▍      | 163/470 [00:04<00:06, 44.67it/s]\u001b[A\n",
            " 36%|███▌      | 168/470 [00:04<00:06, 45.34it/s]\u001b[A\n",
            " 37%|███▋      | 173/470 [00:04<00:06, 44.17it/s]\u001b[A\n",
            " 38%|███▊      | 178/470 [00:05<00:06, 41.76it/s]\u001b[A\n",
            " 39%|███▉      | 183/470 [00:05<00:09, 31.15it/s]\u001b[A\n",
            " 40%|████      | 188/470 [00:05<00:08, 34.85it/s]\u001b[A\n",
            " 41%|████      | 192/470 [00:05<00:07, 34.93it/s]\u001b[A\n",
            " 42%|████▏     | 197/470 [00:05<00:07, 36.77it/s]\u001b[A\n",
            " 43%|████▎     | 202/470 [00:05<00:06, 38.47it/s]\u001b[A\n",
            " 44%|████▍     | 207/470 [00:05<00:06, 38.99it/s]\u001b[A\n",
            " 45%|████▌     | 212/470 [00:06<00:06, 40.45it/s]\u001b[A\n",
            " 46%|████▌     | 217/470 [00:06<00:06, 38.67it/s]\u001b[A\n",
            " 47%|████▋     | 221/470 [00:06<00:06, 37.74it/s]\u001b[A\n",
            " 48%|████▊     | 225/470 [00:06<00:06, 36.96it/s]\u001b[A\n",
            " 49%|████▊     | 229/470 [00:06<00:06, 36.35it/s]\u001b[A\n",
            " 50%|████▉     | 233/470 [00:06<00:06, 36.50it/s]\u001b[A\n",
            " 50%|█████     | 237/470 [00:06<00:06, 35.39it/s]\u001b[A\n",
            " 51%|█████▏    | 241/470 [00:06<00:06, 34.84it/s]\u001b[A\n",
            " 52%|█████▏    | 246/470 [00:07<00:06, 36.04it/s]\u001b[A\n",
            " 53%|█████▎    | 250/470 [00:07<00:06, 36.28it/s]\u001b[A\n",
            " 54%|█████▍    | 254/470 [00:07<00:06, 35.01it/s]\u001b[A\n",
            " 55%|█████▌    | 260/470 [00:07<00:05, 39.72it/s]\u001b[A\n",
            " 57%|█████▋    | 267/470 [00:07<00:04, 45.58it/s]\u001b[A\n",
            " 58%|█████▊    | 273/470 [00:07<00:04, 46.49it/s]\u001b[A\n",
            " 59%|█████▉    | 278/470 [00:07<00:04, 43.93it/s]\u001b[A\n",
            " 60%|██████    | 283/470 [00:07<00:04, 41.33it/s]\u001b[A\n",
            " 61%|██████▏   | 288/470 [00:07<00:04, 40.86it/s]\u001b[A\n",
            " 62%|██████▏   | 293/470 [00:08<00:04, 40.07it/s]\u001b[A\n",
            " 63%|██████▎   | 298/470 [00:08<00:04, 41.79it/s]\u001b[A\n",
            " 64%|██████▍   | 303/470 [00:08<00:03, 43.95it/s]\u001b[A\n",
            " 66%|██████▌   | 308/470 [00:08<00:03, 42.60it/s]\u001b[A\n",
            " 67%|██████▋   | 313/470 [00:08<00:03, 43.77it/s]\u001b[A\n",
            " 68%|██████▊   | 318/470 [00:08<00:03, 39.64it/s]\u001b[A\n",
            " 69%|██████▊   | 323/470 [00:08<00:03, 37.85it/s]\u001b[A\n",
            " 70%|██████▉   | 327/470 [00:08<00:04, 35.64it/s]\u001b[A\n",
            " 70%|███████   | 331/470 [00:09<00:04, 33.30it/s]\u001b[A\n",
            " 71%|███████▏  | 336/470 [00:09<00:03, 35.16it/s]\u001b[A\n",
            " 73%|███████▎  | 341/470 [00:09<00:03, 37.49it/s]\u001b[A\n",
            " 73%|███████▎  | 345/470 [00:09<00:03, 37.73it/s]\u001b[A\n",
            " 74%|███████▍  | 349/470 [00:09<00:03, 38.09it/s]\u001b[A\n",
            " 75%|███████▌  | 354/470 [00:09<00:02, 38.81it/s]\u001b[A\n",
            " 76%|███████▌  | 358/470 [00:09<00:02, 38.93it/s]\u001b[A\n",
            " 77%|███████▋  | 362/470 [00:09<00:02, 38.04it/s]\u001b[A\n",
            " 78%|███████▊  | 366/470 [00:09<00:02, 38.03it/s]\u001b[A\n",
            " 79%|███████▊  | 370/470 [00:10<00:02, 38.49it/s]\u001b[A\n",
            " 80%|███████▉  | 374/470 [00:10<00:02, 38.36it/s]\u001b[A\n",
            " 80%|████████  | 378/470 [00:10<00:02, 37.27it/s]\u001b[A\n",
            " 81%|████████▏ | 383/470 [00:10<00:02, 38.28it/s]\u001b[A\n",
            " 83%|████████▎ | 388/470 [00:10<00:02, 39.18it/s]\u001b[A\n",
            " 83%|████████▎ | 392/470 [00:10<00:02, 37.26it/s]\u001b[A\n",
            " 84%|████████▍ | 396/470 [00:10<00:02, 35.66it/s]\u001b[A\n",
            " 85%|████████▌ | 401/470 [00:10<00:01, 37.29it/s]\u001b[A\n",
            " 86%|████████▋ | 406/470 [00:11<00:01, 38.44it/s]\u001b[A\n",
            " 87%|████████▋ | 411/470 [00:11<00:01, 40.53it/s]\u001b[A\n",
            " 89%|████████▊ | 416/470 [00:11<00:01, 39.69it/s]\u001b[A\n",
            " 90%|████████▉ | 422/470 [00:11<00:01, 44.07it/s]\u001b[A\n",
            " 91%|█████████▏| 429/470 [00:11<00:00, 48.61it/s]\u001b[A\n",
            " 93%|█████████▎| 435/470 [00:11<00:00, 49.85it/s]\u001b[A\n",
            " 94%|█████████▍| 442/470 [00:11<00:00, 54.53it/s]\u001b[A\n",
            " 96%|█████████▌| 450/470 [00:11<00:00, 59.33it/s]\u001b[A\n",
            " 97%|█████████▋| 457/470 [00:11<00:00, 61.02it/s]\u001b[A\n",
            " 99%|█████████▊| 464/470 [00:12<00:00, 58.65it/s]\u001b[A\n",
            "100%|██████████| 470/470 [00:12<00:00, 38.63it/s]\u001b[A\n",
            "  0%|          | 0/29 [00:00<?, ?it/s]\u001b[A\n",
            " 21%|██        | 6/29 [00:00<00:00, 56.30it/s]\u001b[A"
          ],
          "name": "stderr"
        },
        {
          "output_type": "stream",
          "text": [
            "\n",
            "\n",
            "Imagenes Categoria: 4\n",
            "1001\n",
            "\n"
          ],
          "name": "stdout"
        },
        {
          "output_type": "stream",
          "text": [
            "\n",
            " 48%|████▊     | 14/29 [00:00<00:00, 60.30it/s]\u001b[A\n",
            " 79%|███████▉  | 23/29 [00:00<00:00, 66.07it/s]\u001b[A\n",
            "100%|██████████| 29/29 [00:00<00:00, 73.05it/s]\u001b[A"
          ],
          "name": "stderr"
        },
        {
          "output_type": "stream",
          "text": [
            "\n",
            "\n",
            "Imagenes Categoria: 5\n",
            "1000\n",
            "\n",
            "\n",
            "Función ejecutada: create_training_data\n",
            "Tiempo de ejecución para algoritmo: 29.12835955619812\n",
            "Tamaño base de datos pickle:\n",
            "6001\n",
            "Función ejecutada: create_pickle_database\n",
            "Tiempo de ejecución para algoritmo: 42.076083183288574\n"
          ],
          "name": "stdout"
        },
        {
          "output_type": "execute_result",
          "data": {
            "text/plain": [
              "True"
            ]
          },
          "metadata": {
            "tags": []
          },
          "execution_count": 15
        }
      ]
    },
    {
      "cell_type": "markdown",
      "metadata": {
        "id": "iKPgY8UZvRXW",
        "colab_type": "text"
      },
      "source": [
        "### Crear bases de datos basadas en imagenes no filtradas"
      ]
    },
    {
      "cell_type": "markdown",
      "metadata": {
        "id": "ydgy_VLrvV6G",
        "colab_type": "text"
      },
      "source": [
        "#### Creamos base de datos sin balancear categorias"
      ]
    },
    {
      "cell_type": "markdown",
      "metadata": {
        "id": "reKZ4qS9vYnE",
        "colab_type": "text"
      },
      "source": [
        "#### 1. Base de datos maximo nivel data augmentation, todas las categorias"
      ]
    },
    {
      "cell_type": "markdown",
      "metadata": {
        "id": "PFAt56u5wAnl",
        "colab_type": "text"
      },
      "source": [
        "Al tratarse de la base de datos sin filtrar, la cantidad de imagenes es más que considerable.<br>\n",
        "No aplicamos el nivel máximo de dataAugmentation para este caso."
      ]
    },
    {
      "cell_type": "markdown",
      "metadata": {
        "id": "mNwR1TyUvbod",
        "colab_type": "text"
      },
      "source": [
        "#### 2. Base de datos nivel medio data augmentation, todas las categorias"
      ]
    },
    {
      "cell_type": "code",
      "metadata": {
        "id": "SxErFYQez-sd",
        "colab_type": "code",
        "outputId": "8eabacb1-eaee-4422-d5c3-33f731b0ed46",
        "colab": {
          "base_uri": "https://localhost:8080/",
          "height": 301
        }
      },
      "source": [
        "create_pickle_database(BASE_FOLDER_sinFiltrar, Complete_cat, img_size, pick_name_Aug6_ub_complet, Aug_level_6)"
      ],
      "execution_count": 0,
      "outputs": [
        {
          "output_type": "stream",
          "text": [
            "100%|██████████| 274/274 [02:44<00:00,  1.89it/s]\n",
            "100%|██████████| 247/247 [02:14<00:00,  1.28it/s]\n",
            "100%|██████████| 384/384 [03:24<00:00,  2.37it/s]\n",
            "100%|██████████| 460/460 [04:32<00:00,  1.54it/s]\n",
            "100%|██████████| 470/470 [03:53<00:00,  2.56it/s]\n",
            "100%|██████████| 345/345 [03:39<00:00,  1.49it/s]\n"
          ],
          "name": "stderr"
        },
        {
          "output_type": "stream",
          "text": [
            "Ratio data Augmentation:\n",
            "5.0\n",
            "\n",
            "Función ejecutada: create_training_data\n",
            "Tiempo de ejecución para algoritmo: 1232.27205824852\n",
            "Tamaño base de datos pickle:\n",
            "10900\n",
            "Función ejecutada: create_pickle_database\n",
            "Tiempo de ejecución para algoritmo: 1303.8706290721893\n"
          ],
          "name": "stdout"
        },
        {
          "output_type": "execute_result",
          "data": {
            "text/plain": [
              "True"
            ]
          },
          "metadata": {
            "tags": []
          },
          "execution_count": 13
        }
      ]
    },
    {
      "cell_type": "markdown",
      "metadata": {
        "id": "VZpQCtA9veO8",
        "colab_type": "text"
      },
      "source": [
        "#### 3. Base de datos nivel bajo data augmentation, todas las categorias"
      ]
    },
    {
      "cell_type": "code",
      "metadata": {
        "id": "l70ioo370EJB",
        "colab_type": "code",
        "outputId": "fdd0f758-049d-4cf2-b9a1-5c23afc1d289",
        "colab": {
          "base_uri": "https://localhost:8080/",
          "height": 301
        }
      },
      "source": [
        "create_pickle_database(BASE_FOLDER_sinFiltrar, Complete_cat, img_size, pick_name_Aug4_ub_complet, Aug_level_4)"
      ],
      "execution_count": 0,
      "outputs": [
        {
          "output_type": "stream",
          "text": [
            "100%|██████████| 274/274 [00:04<00:00, 55.45it/s]\n",
            "100%|██████████| 247/247 [00:04<00:00, 52.30it/s]\n",
            "100%|██████████| 384/384 [00:05<00:00, 64.94it/s]\n",
            "100%|██████████| 460/460 [00:09<00:00, 46.21it/s]\n",
            "100%|██████████| 470/470 [00:13<00:00, 35.92it/s]\n",
            "100%|██████████| 345/345 [00:12<00:00, 28.58it/s]\n"
          ],
          "name": "stderr"
        },
        {
          "output_type": "stream",
          "text": [
            "Ratio data Augmentation:\n",
            "4.0\n",
            "\n",
            "Función ejecutada: create_training_data\n",
            "Tiempo de ejecución para algoritmo: 50.70317053794861\n",
            "Tamaño base de datos pickle:\n",
            "8720\n",
            "Función ejecutada: create_pickle_database\n",
            "Tiempo de ejecución para algoritmo: 86.07863545417786\n"
          ],
          "name": "stdout"
        },
        {
          "output_type": "execute_result",
          "data": {
            "text/plain": [
              "True"
            ]
          },
          "metadata": {
            "tags": []
          },
          "execution_count": 15
        }
      ]
    },
    {
      "cell_type": "markdown",
      "metadata": {
        "id": "SLjdv9izvgl1",
        "colab_type": "text"
      },
      "source": [
        "#### 4. Base de datos sin data augmentation, todas las categorias"
      ]
    },
    {
      "cell_type": "code",
      "metadata": {
        "id": "OxVrlXAX0HaN",
        "colab_type": "code",
        "outputId": "b362a4d5-f36b-48bf-b4ea-aed2cabb3104",
        "colab": {
          "base_uri": "https://localhost:8080/",
          "height": 301
        }
      },
      "source": [
        "create_pickle_database(BASE_FOLDER_sinFiltrar, Complete_cat, img_size, pick_name_std_ub_complet, Aug_level_0)"
      ],
      "execution_count": 0,
      "outputs": [
        {
          "output_type": "stream",
          "text": [
            "100%|██████████| 274/274 [00:03<00:00, 68.54it/s]\n",
            "100%|██████████| 247/247 [00:03<00:00, 64.10it/s]\n",
            "100%|██████████| 384/384 [00:04<00:00, 81.99it/s]\n",
            "100%|██████████| 460/460 [00:07<00:00, 57.11it/s]\n",
            "100%|██████████| 470/470 [00:10<00:00, 45.57it/s]\n",
            "100%|██████████| 345/345 [00:04<00:00, 74.45it/s]\n"
          ],
          "name": "stderr"
        },
        {
          "output_type": "stream",
          "text": [
            "Ratio data Augmentation:\n",
            "1.0\n",
            "\n",
            "Función ejecutada: create_training_data\n",
            "Tiempo de ejecución para algoritmo: 34.610584020614624\n",
            "Tamaño base de datos pickle:\n",
            "2180\n",
            "Función ejecutada: create_pickle_database\n",
            "Tiempo de ejecución para algoritmo: 35.17029333114624\n"
          ],
          "name": "stdout"
        },
        {
          "output_type": "execute_result",
          "data": {
            "text/plain": [
              "True"
            ]
          },
          "metadata": {
            "tags": []
          },
          "execution_count": 16
        }
      ]
    },
    {
      "cell_type": "markdown",
      "metadata": {
        "id": "p4qM3QBaviyE",
        "colab_type": "text"
      },
      "source": [
        "#### Creamos base de datos balanceadas"
      ]
    },
    {
      "cell_type": "markdown",
      "metadata": {
        "id": "BjeglMB8vk68",
        "colab_type": "text"
      },
      "source": [
        "#### 1. Base de datos balanceada, todas las categorias, tamaño base de datos final nivel bajo"
      ]
    },
    {
      "cell_type": "code",
      "metadata": {
        "id": "d7QjD2m-0L6u",
        "colab_type": "code",
        "outputId": "6db599c1-8f12-49f8-946d-d576ba6fc7df",
        "colab": {
          "base_uri": "https://localhost:8080/",
          "height": 799
        }
      },
      "source": [
        "create_pickle_database(BASE_FOLDER_sinFiltrar, Complete_cat, img_size, pick_name_low_bal, Aug_level_0, low_bal)"
      ],
      "execution_count": 0,
      "outputs": [
        {
          "output_type": "stream",
          "text": [
            " 71%|███████   | 195/274 [00:02<00:00, 85.48it/s]\n",
            "  0%|          | 1/247 [00:00<00:31,  7.91it/s]"
          ],
          "name": "stderr"
        },
        {
          "output_type": "stream",
          "text": [
            "\n",
            "\n",
            "Imagenes Categoria: 0\n",
            "203\n",
            "\n"
          ],
          "name": "stdout"
        },
        {
          "output_type": "stream",
          "text": [
            " 81%|████████  | 199/247 [00:03<00:00, 53.44it/s]\n",
            "  2%|▏         | 7/384 [00:00<00:05, 64.86it/s]"
          ],
          "name": "stderr"
        },
        {
          "output_type": "stream",
          "text": [
            "\n",
            "\n",
            "Imagenes Categoria: 1\n",
            "203\n",
            "\n"
          ],
          "name": "stdout"
        },
        {
          "output_type": "stream",
          "text": [
            " 51%|█████     | 195/384 [00:02<00:02, 91.60it/s]\n",
            "  0%|          | 2/460 [00:00<00:26, 17.53it/s]"
          ],
          "name": "stderr"
        },
        {
          "output_type": "stream",
          "text": [
            "\n",
            "\n",
            "Imagenes Categoria: 2\n",
            "203\n",
            "\n"
          ],
          "name": "stdout"
        },
        {
          "output_type": "stream",
          "text": [
            " 43%|████▎     | 197/460 [00:04<00:03, 73.03it/s]\n",
            "  0%|          | 0/470 [00:00<?, ?it/s]"
          ],
          "name": "stderr"
        },
        {
          "output_type": "stream",
          "text": [
            "\n",
            "\n",
            "Imagenes Categoria: 3\n",
            "203\n",
            "\n"
          ],
          "name": "stdout"
        },
        {
          "output_type": "stream",
          "text": [
            " 42%|████▏     | 199/470 [00:04<00:06, 44.74it/s]\n",
            "  0%|          | 0/345 [00:00<?, ?it/s]"
          ],
          "name": "stderr"
        },
        {
          "output_type": "stream",
          "text": [
            "\n",
            "\n",
            "Imagenes Categoria: 4\n",
            "203\n",
            "\n"
          ],
          "name": "stdout"
        },
        {
          "output_type": "stream",
          "text": [
            " 57%|█████▋    | 196/345 [00:05<00:03, 41.98it/s]\n"
          ],
          "name": "stderr"
        },
        {
          "output_type": "stream",
          "text": [
            "\n",
            "\n",
            "Imagenes Categoria: 5\n",
            "203\n",
            "\n",
            "\n",
            "Función ejecutada: create_training_data\n",
            "Tiempo de ejecución para algoritmo: 24.47635507583618\n",
            "Tamaño base de datos pickle:\n",
            "1218\n",
            "Función ejecutada: create_pickle_database\n",
            "Tiempo de ejecución para algoritmo: 28.32234764099121\n"
          ],
          "name": "stdout"
        },
        {
          "output_type": "execute_result",
          "data": {
            "text/plain": [
              "True"
            ]
          },
          "metadata": {
            "tags": []
          },
          "execution_count": 17
        }
      ]
    },
    {
      "cell_type": "markdown",
      "metadata": {
        "id": "ug8GlfBnvvBs",
        "colab_type": "text"
      },
      "source": [
        "#### 2. Base de datos balanceada, todas las categorias, tamaño base de datos final nivel medio"
      ]
    },
    {
      "cell_type": "code",
      "metadata": {
        "id": "UxETDkve0PYu",
        "colab_type": "code",
        "outputId": "346f6008-20d3-40c3-c9fa-78f8065b5233",
        "colab": {
          "base_uri": "https://localhost:8080/",
          "height": 799
        }
      },
      "source": [
        "create_pickle_database(BASE_FOLDER_sinFiltrar, Complete_cat, img_size, pick_name_medium_bal, Aug_level_0, medium_bal)"
      ],
      "execution_count": 0,
      "outputs": [
        {
          "output_type": "stream",
          "text": [
            "100%|██████████| 274/274 [00:03<00:00, 69.93it/s]\n",
            "  0%|          | 1/247 [00:00<00:30,  8.06it/s]"
          ],
          "name": "stderr"
        },
        {
          "output_type": "stream",
          "text": [
            "\n",
            "\n",
            "Imagenes Categoria: 0\n",
            "502\n",
            "\n"
          ],
          "name": "stdout"
        },
        {
          "output_type": "stream",
          "text": [
            "100%|██████████| 247/247 [00:04<00:00, 58.57it/s]\n",
            "  2%|▏         | 7/384 [00:00<00:06, 62.66it/s]"
          ],
          "name": "stderr"
        },
        {
          "output_type": "stream",
          "text": [
            "\n",
            "\n",
            "Imagenes Categoria: 1\n",
            "502\n",
            "\n"
          ],
          "name": "stdout"
        },
        {
          "output_type": "stream",
          "text": [
            "100%|██████████| 384/384 [00:04<00:00, 90.66it/s]\n",
            "  0%|          | 2/460 [00:00<00:27, 16.53it/s]"
          ],
          "name": "stderr"
        },
        {
          "output_type": "stream",
          "text": [
            "\n",
            "\n",
            "Imagenes Categoria: 2\n",
            "501\n",
            "\n"
          ],
          "name": "stdout"
        },
        {
          "output_type": "stream",
          "text": [
            "100%|██████████| 460/460 [00:07<00:00, 65.68it/s]\n",
            "  0%|          | 0/470 [00:00<?, ?it/s]"
          ],
          "name": "stderr"
        },
        {
          "output_type": "stream",
          "text": [
            "\n",
            "\n",
            "Imagenes Categoria: 3\n",
            "502\n",
            "\n"
          ],
          "name": "stdout"
        },
        {
          "output_type": "stream",
          "text": [
            "100%|██████████| 470/470 [00:11<00:00, 57.56it/s]\n",
            "  0%|          | 0/345 [00:00<?, ?it/s]"
          ],
          "name": "stderr"
        },
        {
          "output_type": "stream",
          "text": [
            "\n",
            "\n",
            "Imagenes Categoria: 4\n",
            "500\n",
            "\n"
          ],
          "name": "stdout"
        },
        {
          "output_type": "stream",
          "text": [
            "100%|██████████| 345/345 [00:05<00:00, 65.47it/s]\n"
          ],
          "name": "stderr"
        },
        {
          "output_type": "stream",
          "text": [
            "\n",
            "\n",
            "Imagenes Categoria: 5\n",
            "501\n",
            "\n",
            "\n",
            "Función ejecutada: create_training_data\n",
            "Tiempo de ejecución para algoritmo: 36.62601923942566\n",
            "Tamaño base de datos pickle:\n",
            "3008\n",
            "Función ejecutada: create_pickle_database\n",
            "Tiempo de ejecución para algoritmo: 40.587419509887695\n"
          ],
          "name": "stdout"
        },
        {
          "output_type": "execute_result",
          "data": {
            "text/plain": [
              "True"
            ]
          },
          "metadata": {
            "tags": []
          },
          "execution_count": 18
        }
      ]
    },
    {
      "cell_type": "markdown",
      "metadata": {
        "id": "-U0YNrsrw9CV",
        "colab_type": "text"
      },
      "source": [
        "#### 3. Base de datos balanceada, todas las categorias, tamaño base de datos final nivel alto"
      ]
    },
    {
      "cell_type": "code",
      "metadata": {
        "id": "S_Bc8Y53q9Cb",
        "colab_type": "code",
        "outputId": "d701e6a8-c52e-4763-83ab-baa1ca69bc88",
        "colab": {
          "base_uri": "https://localhost:8080/",
          "height": 799
        }
      },
      "source": [
        "create_pickle_database(BASE_FOLDER_sinFiltrar, Complete_cat, img_size, pick_name_high_bal, Aug_level_0, high_bal)"
      ],
      "execution_count": 0,
      "outputs": [
        {
          "output_type": "stream",
          "text": [
            "100%|██████████| 274/274 [00:03<00:00, 79.53it/s]\n",
            "  0%|          | 1/247 [00:00<00:28,  8.58it/s]"
          ],
          "name": "stderr"
        },
        {
          "output_type": "stream",
          "text": [
            "\n",
            "\n",
            "Imagenes Categoria: 0\n",
            "1000\n",
            "\n"
          ],
          "name": "stdout"
        },
        {
          "output_type": "stream",
          "text": [
            "100%|██████████| 247/247 [00:03<00:00, 64.83it/s]\n",
            "  2%|▏         | 6/384 [00:00<00:06, 58.28it/s]"
          ],
          "name": "stderr"
        },
        {
          "output_type": "stream",
          "text": [
            "\n",
            "\n",
            "Imagenes Categoria: 1\n",
            "1000\n",
            "\n"
          ],
          "name": "stdout"
        },
        {
          "output_type": "stream",
          "text": [
            "100%|██████████| 384/384 [00:04<00:00, 89.26it/s]\n",
            "  0%|          | 2/460 [00:00<00:26, 17.31it/s]"
          ],
          "name": "stderr"
        },
        {
          "output_type": "stream",
          "text": [
            "\n",
            "\n",
            "Imagenes Categoria: 2\n",
            "1002\n",
            "\n"
          ],
          "name": "stdout"
        },
        {
          "output_type": "stream",
          "text": [
            "100%|██████████| 460/460 [00:07<00:00, 64.04it/s]\n",
            "  0%|          | 0/470 [00:00<?, ?it/s]"
          ],
          "name": "stderr"
        },
        {
          "output_type": "stream",
          "text": [
            "\n",
            "\n",
            "Imagenes Categoria: 3\n",
            "1000\n",
            "\n"
          ],
          "name": "stdout"
        },
        {
          "output_type": "stream",
          "text": [
            "100%|██████████| 470/470 [00:10<00:00, 46.48it/s]\n",
            "  0%|          | 0/345 [00:00<?, ?it/s]"
          ],
          "name": "stderr"
        },
        {
          "output_type": "stream",
          "text": [
            "\n",
            "\n",
            "Imagenes Categoria: 4\n",
            "1001\n",
            "\n"
          ],
          "name": "stdout"
        },
        {
          "output_type": "stream",
          "text": [
            "100%|██████████| 345/345 [00:04<00:00, 79.88it/s] \n"
          ],
          "name": "stderr"
        },
        {
          "output_type": "stream",
          "text": [
            "\n",
            "\n",
            "Imagenes Categoria: 5\n",
            "1002\n",
            "\n",
            "\n",
            "Función ejecutada: create_training_data\n",
            "Tiempo de ejecución para algoritmo: 37.68328595161438\n",
            "Tamaño base de datos pickle:\n",
            "6005\n",
            "Función ejecutada: create_pickle_database\n",
            "Tiempo de ejecución para algoritmo: 46.75252103805542\n"
          ],
          "name": "stdout"
        },
        {
          "output_type": "execute_result",
          "data": {
            "text/plain": [
              "True"
            ]
          },
          "metadata": {
            "tags": []
          },
          "execution_count": 19
        }
      ]
    },
    {
      "cell_type": "markdown",
      "metadata": {
        "id": "gC-DOJuy1fwG",
        "colab_type": "text"
      },
      "source": [
        "### Crear base de datos para Test"
      ]
    },
    {
      "cell_type": "code",
      "metadata": {
        "id": "breDopUE1jl7",
        "colab_type": "code",
        "outputId": "cb9fd27b-1852-4716-e579-011947daa56e",
        "colab": {
          "base_uri": "https://localhost:8080/",
          "height": 286
        }
      },
      "source": [
        "create_pickle_database(BASE_FOLDER_testFinal, Complete_cat, img_size, \"TestSet\", Aug_level_0)"
      ],
      "execution_count": 0,
      "outputs": [
        {
          "output_type": "stream",
          "text": [
            "100%|██████████| 4/4 [00:00<00:00, 97.89it/s]\n",
            "100%|██████████| 5/5 [00:00<00:00, 70.27it/s]\n",
            "100%|██████████| 6/6 [00:00<00:00, 79.92it/s]\n",
            "100%|██████████| 5/5 [00:00<00:00, 78.69it/s]\n",
            "100%|██████████| 6/6 [00:00<00:00, 73.16it/s]\n",
            "100%|██████████| 6/6 [00:00<00:00, 76.92it/s]"
          ],
          "name": "stderr"
        },
        {
          "output_type": "stream",
          "text": [
            "Ratio data Augmentation:\n",
            "1.0\n",
            "\n",
            "Función ejecutada: create_training_data\n",
            "Tiempo de ejecución para algoritmo: 0.4355928897857666\n",
            "Tamaño base de datos pickle:\n",
            "32\n",
            "Función ejecutada: create_pickle_database\n",
            "Tiempo de ejecución para algoritmo: 0.45241689682006836\n"
          ],
          "name": "stdout"
        },
        {
          "output_type": "stream",
          "text": [
            "\n"
          ],
          "name": "stderr"
        },
        {
          "output_type": "execute_result",
          "data": {
            "text/plain": [
              "True"
            ]
          },
          "metadata": {
            "tags": []
          },
          "execution_count": 37
        }
      ]
    },
    {
      "cell_type": "code",
      "metadata": {
        "id": "5nhPY9-m4CAO",
        "colab_type": "code",
        "outputId": "05632c23-ccfa-478f-8e17-5e598e987116",
        "colab": {
          "base_uri": "https://localhost:8080/",
          "height": 286
        }
      },
      "source": [
        "create_pickle_database(BASE_FOLDER_testFinal, Complete_cat, img_size, \"TestSetMax\", Aug_level_max)"
      ],
      "execution_count": 0,
      "outputs": [
        {
          "output_type": "stream",
          "text": [
            "100%|██████████| 4/4 [00:00<00:00, 42.03it/s]\n",
            "100%|██████████| 5/5 [00:00<00:00, 36.85it/s]\n",
            "100%|██████████| 6/6 [00:00<00:00, 40.54it/s]\n",
            "100%|██████████| 5/5 [00:00<00:00, 44.49it/s]\n",
            "100%|██████████| 6/6 [00:00<00:00, 40.23it/s]\n",
            "100%|██████████| 6/6 [00:00<00:00, 40.61it/s]\n"
          ],
          "name": "stderr"
        },
        {
          "output_type": "stream",
          "text": [
            "Ratio data Augmentation:\n",
            "17.0\n",
            "\n",
            "Función ejecutada: create_training_data\n",
            "Tiempo de ejecución para algoritmo: 0.8210217952728271\n",
            "Tamaño base de datos pickle:\n",
            "544\n",
            "Función ejecutada: create_pickle_database\n",
            "Tiempo de ejecución para algoritmo: 1.4099750518798828\n"
          ],
          "name": "stdout"
        },
        {
          "output_type": "execute_result",
          "data": {
            "text/plain": [
              "True"
            ]
          },
          "metadata": {
            "tags": []
          },
          "execution_count": 33
        }
      ]
    }
  ]
}